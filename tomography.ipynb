{
 "cells": [
  {
   "cell_type": "code",
   "execution_count": 1,
   "metadata": {
    "ExecuteTime": {
     "end_time": "2018-09-21T15:06:31.913583Z",
     "start_time": "2018-09-21T15:06:30.304538Z"
    }
   },
   "outputs": [
    {
     "name": "stdout",
     "output_type": "stream",
     "text": [
      "Fri Sep 21 11:06:31 2018\n"
     ]
    }
   ],
   "source": [
    "import os\n",
    "import numpy as np\n",
    "import pandas as pd\n",
    "import matplotlib as mpl\n",
    "import matplotlib.pyplot as plt\n",
    "import matplotlib.mlab as mlab\n",
    "from mpl_toolkits.mplot3d import Axes3D\n",
    "from matplotlib import cm\n",
    "from scipy.optimize import curve_fit\n",
    "import scipy.signal as spy\n",
    "import glob\n",
    "import time\n",
    "import seaborn as sns\n",
    "sns.set()\n",
    "sns.set_style(\"whitegrid\")\n",
    "import imageio\n",
    "import moviepy.editor as mpy\n",
    "print(time.ctime())\n",
    "#%matplotlib notebook\n",
    "%matplotlib inline\n",
    "#import mpld3\n",
    "\n",
    "#mpld3.enable_notebook()\n",
    "\n",
    "#This module takes all unsorted files (1296) in a single directory & sorts them, then calculates 81 S values\n",
    "# Once all those S values are saved, it outputs them in a graphic\n",
    "# You'll need that bash file, or your own method to download all the .csv files\n",
    "# Commenting does exist, but if something doesn't make sense, check the module it is referencing\n",
    "# I tried to institute Hungarian Notation, where the first letter of each variable relates to the datatype \n",
    "# it should be. (l_ means list, a_ means array, s_ means string) \n",
    "# This notation isn't used in a lot of the modules because they were written earlier in the summers"
   ]
  },
  {
   "cell_type": "code",
   "execution_count": 2,
   "metadata": {
    "ExecuteTime": {
     "end_time": "2018-09-21T15:06:31.941643Z",
     "start_time": "2018-09-21T15:06:31.926903Z"
    },
    "code_folding": []
   },
   "outputs": [],
   "source": [
    "#functions\n",
    "def linear(x,a,b):\n",
    "    return x*a + b\n",
    "def exp_decay(x,a,b,c):\n",
    "    return a * np.exp(-b*x) + c\n",
    "def root(x,a,b):\n",
    "    return a *np.sqrt(x) + b\n",
    "def fitting(function,xdata,ydata,  guess,sigma = 0):\n",
    "    if type(sigma) is int:\n",
    "        fit_opt, fit_cov = curve_fit(function,xdata,ydata, p0=guess, maxfev = 2600)\n",
    "    else:\n",
    "        fit_opt, fit_cov = curve_fit(function,xdata,ydata, p0=guess, sigma = sigma, absolute_sigma = True)\n",
    "    return function(xdata,*fit_opt), fit_opt, fit_cov \n",
    "def gaussian(x, amp, cen, wid,const):\n",
    "    return amp * np.exp(-(x-cen)**2 / wid)+const\n",
    "def polygauss(x,amp,cen,wid,am2,cen2,wid2,const):\n",
    "    return gaussian(x, amp, cen, wid,const) + gaussian(x,am2, cen2, wid2,const)\n",
    "def polyexpo(x,a,b,c,d):\n",
    "    return exp_decay(x,a,b) + exp_decay(x,c,d)\n",
    "def expogauss(x,a,b,c,d, amp,cen,wid):\n",
    "     return polyexpo(x,a,b,c,d) + gaussian(x, amp, cen, wid)\n",
    "def sin(x,a,b,c,d):\n",
    "    value = a*np.sin((x*(2*np.pi/b)+(180/np.pi)*c))+d\n",
    "    return value\n",
    "def chi_square_red(x, y, yerr, modelfunc, p_opt):\n",
    "    numerator = (y - modelfunc(x, *p_opt)) ** 2\n",
    "    denominator = yerr ** 2\n",
    "    chi = sum(numerator / denominator)\n",
    "    chired = chi / (len(y) - len(p_opt))\n",
    "    return chired"
   ]
  },
  {
   "cell_type": "code",
   "execution_count": 3,
   "metadata": {
    "ExecuteTime": {
     "end_time": "2018-09-21T15:06:31.961461Z",
     "start_time": "2018-09-21T15:06:31.952836Z"
    },
    "code_folding": []
   },
   "outputs": [],
   "source": [
    "def data_gather(filelist,directory):\n",
    "        delta = []                                                  # generates new empty lists\n",
    "        coi = []\n",
    "        fiber = []\n",
    "        for i in range(len(filelist)):\n",
    "            s_file = directory+filelist[i]\n",
    "            data = np.loadtxt(s_file, dtype= float, delimiter=\",\", usecols = (0,1,2))   # loads data\n",
    "            deltafill = data[:, 0]                                                          # places data in separate arrays\n",
    "            coifill = data[:, 1]\n",
    "            fiberfill = data[:,2]\n",
    "            # places arrays into a Python list\n",
    "            delta.append(deltafill)\n",
    "            coi.append(coifill)\n",
    "            fiber.append(fiberfill)\n",
    "        return delta,coi,fiber"
   ]
  },
  {
   "cell_type": "code",
   "execution_count": 4,
   "metadata": {
    "ExecuteTime": {
     "end_time": "2018-09-21T15:06:31.990757Z",
     "start_time": "2018-09-21T15:06:31.973380Z"
    },
    "code_folding": []
   },
   "outputs": [],
   "source": [
    "def GaussianFit(delta,coi, fiber,name,pol,init = (2500,0,40,2500,0,60,150),init3 =  (1000,0,50,800,0,80,1500)):\n",
    "    param3 = init3\n",
    "    cutd, cutc, cutf = fiberselect(delta,coi,fiber,1)\n",
    "    newd, newc,newf = fiberselect(delta,coi,fiber,2)\n",
    "    if np.max(coi) < 50:\n",
    "        guess = (250,0,40,15)\n",
    "        print(pol, 'SINGLE GAUSS!')\n",
    "        fit = fitting(gaussian,delta, coi,guess =guess)\n",
    "    else:\n",
    "        fit = fitting(polygauss,delta, coi,guess =init)\n",
    "    #fit2 = fitting(polygauss,cutd, cutf,guess = init3)\n",
    "    #fit3 = fitting(polygauss,newd,newf, guess = init3 )\n",
    "    cutd = np.sort(cutd)\n",
    "    newd = np.sort(newd)   \n",
    "    # calculating integral and error propogation\n",
    "    param = fit[1]\n",
    "    #param2 = fit2[1]\n",
    "    #param3 = fit3[1]\n",
    "       # integrals\n",
    "    if np.max(coi) < 50:\n",
    "        total = param[0]*np.sqrt(np.pi*(param[2]))\n",
    "\n",
    "    else:\n",
    "        total = param[0]*np.sqrt(np.pi*(param[2])) + param[3]*np.sqrt(np.pi*param[5]) \n",
    "    #total2 =(param2[0]*np.sqrt(np.pi*(param2[2])) + param2[3]*np.sqrt(np.pi*param2[5])) /2 \n",
    "    #total3 = (param3[0]*np.sqrt(np.pi*(param3[2])) + param3[3]*np.sqrt(np.pi*param3[5]))/2 \n",
    "    # errors from covariance matrix\n",
    "    perr = np.sqrt(np.diag(fit[2]))\n",
    "    #perr2 = np.sqrt(np.diag(fit2[2]))\n",
    "    #perr3 = np.sqrt(np.diag(fit3[2]))\n",
    "    # error propogation\n",
    "    if np.max(coi) < 50:\n",
    "        se = total*np.sqrt(perr[0]/param[0]**2)+ param[3]           \n",
    "    else:\n",
    "        se =total*np.sqrt((perr[0]/param[0])**2+(perr[2]/(2*param[2])**2))\n",
    "    #se2 = total2*np.sqrt((perr2[0]/param2[0])**2+(perr2[2]/(2*param2[2])**2))\n",
    "    #se3 = total3*np.sqrt((perr3[0]/param3[0])**2+(perr3[2]/(2*param3[2])**2))\n",
    "    #if np.isinf(se3) == True:\n",
    "        #print(pol)\n",
    "        #print(param3)\n",
    "        #print(perr3)\n",
    "    # Plotting functionality\n",
    "    fig,ax = plt.subplots(figsize = (10,10))\n",
    "    #plt.scatter(delta,fiber, marker = \"+\",color = 'lightcoral' ,alpha = 0.5)\n",
    "    plt.scatter(delta, coi,marker = \"+\", color = 'cadetblue', )\n",
    "    plt.plot(delta, fit[0], color = 'm', label = 'Coincidences' )\n",
    "    #plt.plot(cutd[:np.int(len(cutd)/2)], fit2[0][:np.int(len(cutd)/2)],color = 'gold', label = 'Coincidences - Same Fiber' )\n",
    "    #plt.plot(newd[np.int(len(newd)/2+1):], fit3[0][np.int(len(newd)/2+1):],color = 'orange', label = 'Coincidences - Same Fiber2')\n",
    "    plt.title('Coincidences ' + pol)\n",
    "    #plt.ylim(0,3150)\n",
    "    plt.xlim(-50,50)\n",
    "    plt.xlabel('Delta T (ns)')\n",
    "    plt.ylabel('Coincidences')\n",
    "    plt.legend()\n",
    "    textstr = '$Coincidences=%.2f$'% (total)\n",
    "    props = dict(boxstyle='round', facecolor='wheat', alpha=0.5)\n",
    "    ax.text(0.05, 0.95, textstr, transform=ax.transAxes, fontsize=14, verticalalignment='top', bbox=props)\n",
    "    #plt.savefig(name,  bbox_inches='tight')\n",
    "    return total, se, param, param3\n",
    "\n"
   ]
  },
  {
   "cell_type": "code",
   "execution_count": 5,
   "metadata": {
    "ExecuteTime": {
     "end_time": "2018-09-21T15:06:32.010048Z",
     "start_time": "2018-09-21T15:06:32.002066Z"
    },
    "code_folding": []
   },
   "outputs": [],
   "source": [
    "def fiberselect(d, c, f,fiber):\n",
    "    #this is used in the GaussianFit module. It is how I fit the two separate fibers (+/- 0)\n",
    "    if fiber == 1:\n",
    "        index = np.where(d <= 0)\n",
    "        newindex = np.where(d < 0)\n",
    "        delta_part = d[index]\n",
    "        delta =np.append(delta_part, -1*d[newindex] )\n",
    "    if fiber == 2:\n",
    "        index = np.where(d >= 0)\n",
    "        newindex = np.where(d > 0)\n",
    "        delta_part = -1*d[index]\n",
    "        delta =np.append(delta_part, d[newindex] )\n",
    "    coi_part   = c[index]\n",
    "    fiber_part = f[index]\n",
    "    coi   =np.append(coi_part, c[newindex])\n",
    "    fiber = np.append(fiber_part,f[newindex])\n",
    "    return delta, coi, fiber"
   ]
  },
  {
   "cell_type": "code",
   "execution_count": 6,
   "metadata": {
    "ExecuteTime": {
     "end_time": "2018-09-21T15:06:32.034273Z",
     "start_time": "2018-09-21T15:06:32.022903Z"
    },
    "code_folding": []
   },
   "outputs": [],
   "source": [
    "def fixer(parameters):\n",
    "    # this just switches signs of things so I have positive amplitudes.\n",
    "    #  It also plots just to check that the parameters I have make sense\n",
    "    x = np.linspace(60,300,60)\n",
    "    plt.figure(figsize =(20,10))\n",
    "    plt.subplot(121)\n",
    "    for i in range(4):\n",
    "        plt.plot(x,sin(x,*parameters[i*4:(i*4+4)]))\n",
    "    plt.show\n",
    "    print(parameters)\n",
    "    for i in range(0,4):\n",
    "        if parameters[i*4] < 0:\n",
    "            print(parameters[i*4])\n",
    "            parameters[i*4] = np.absolute(parameters[i*4])\n",
    "            parameters[4*i+2] = -parameters[((4*i)+2)]  \n",
    "            parameters[4*i+1] = -parameters[((4*i)+1)]   \n",
    "    print(parameters)\n",
    "    plt.subplot(122)\n",
    "    for i in range(4):\n",
    "        plt.plot(x,sin(x,*parameters[i*4:(i*4+4)]))\n",
    "    plt.show()                                              \n",
    "    return(parameters)"
   ]
  },
  {
   "cell_type": "code",
   "execution_count": 7,
   "metadata": {
    "ExecuteTime": {
     "end_time": "2018-09-21T15:06:32.130848Z",
     "start_time": "2018-09-21T15:06:32.119314Z"
    },
    "code_folding": []
   },
   "outputs": [],
   "source": [
    "def Sval(a_total):\n",
    "    # Bell Inequality s values\n",
    "    E = np.zeros(4)\n",
    "    index = np.array([10,6,8,4,11,7,9,5,14,2,12,0,15,3,13,1])\n",
    "    # I wish I could explain the index better. Once you sort the names of the files 'alphabetically'\n",
    "    # then this sorts them into an order where each group of four represents an \"E\" to be calculated\n",
    "    # Which ones belong to E are determined by orthogonality & described in the booklet for the photon source\n",
    "    a_total = np.array(a_total)\n",
    "    C = a_total[index]\n",
    "    for i in range(len(C)):\n",
    "        if np.isnan(C[i]) == True:\n",
    "            print(i, 'C FUCKED UP') # pardon my french\n",
    "        if np.isinf(C[i]) == True:\n",
    "            print(i, 'C FUCKED UP INF')\n",
    "    for i in range(4):\n",
    "        num = C[4*i]-C[4*i+1]-C[4*i+2]+C[4*i+3]\n",
    "        den = (C[4*i]+C[4*i+1]+C[4*i+2]+C[4*i+3])\n",
    "        E[i] = num/den\n",
    "        #print(den)\n",
    "        #print(i)\n",
    "    #print(E, \"E\")\n",
    "    S = E[0]+E[1]-E[2]+E[3]\n",
    "    print(S)\n",
    "    max = 2*np.sqrt(2)\n",
    "    #print(max)\n",
    "    return S,C,E"
   ]
  },
  {
   "cell_type": "code",
   "execution_count": 8,
   "metadata": {
    "ExecuteTime": {
     "end_time": "2018-09-21T15:06:32.467426Z",
     "start_time": "2018-09-21T15:06:32.447484Z"
    },
    "code_folding": []
   },
   "outputs": [],
   "source": [
    "def errorprop(C,E,errors):\n",
    "# Error Propogation for each C\n",
    "    coi_err = np.zeros(16)\n",
    "    E_err = np.zeros(4)\n",
    "    x = np.array([22.5,67.5,112.5,157.5])\n",
    "    index = np.array([10,6,8,4,11,7,9,5,14,2,12,0,15,3,13,1]) \n",
    "    errors = np.array(errors)\n",
    "    coi_err = errors[index]\n",
    "    print(np.sum(coi_err), 'NAN SUM TEST')\n",
    "    if np.isnan(np.sum(coi_err)) == True:\n",
    "        print('Coincidence fucked up')\n",
    "    for i in range(4):\n",
    "        num = C[4*i]-C[4*i+1]-C[4*i+2]+C[4*i+3]\n",
    "        den = (C[4*i]+C[4*i+1]+C[4*i+2]+C[4*i+3])\n",
    "        num_err = np.sqrt(coi_err[4*i]**2+coi_err[4*i+1]**2+coi_err[4*i+2]**2+coi_err[4*i+3]**2)\n",
    "        den_err = np.sqrt(coi_err[4*i]**2+coi_err[4*i+1]**2+coi_err[4*i+2]**2+coi_err[4*i+3]**2)\n",
    "        if np.isnan(num_err) == True:\n",
    "            print( 'NUM FUCKED UP ')\n",
    "        if np.isnan(den_err) == True:\n",
    "            print( 'DEN FUCKED UP ')\n",
    "        E_err[i] = E[i]*np.sqrt((num_err/num)**2+(den_err/den)**2)\n",
    "        if np.isnan(E_err[i]) == True:\n",
    "            print( 'E FUCKED UP ')\n",
    "    #Error Propogation in S\n",
    "    print(E,E_err, 'E & error')\n",
    "    S_err = np.sqrt((E_err[0]**2)+(E_err[1]**2)+(E_err[2]**2)+(E_err[3]**2))\n",
    "    if np.isnan(S_err) == True:\n",
    "        print('S FUCKED UP')\n",
    "    print(S_err)\n",
    "    return(S_err)"
   ]
  },
  {
   "cell_type": "code",
   "execution_count": 9,
   "metadata": {
    "ExecuteTime": {
     "end_time": "2018-09-21T15:06:32.764840Z",
     "start_time": "2018-09-21T15:06:32.757284Z"
    }
   },
   "outputs": [],
   "source": [
    "def CoincidenceCount(delta,coi,fiber,pol):\n",
    "    index = np.where((delta < -100) | (delta > 100))\n",
    "    cutd, cutc, cutf = fiberselect(delta,coi,fiber,1)\n",
    "    newd, newc,newf = fiberselect(delta,coi,fiber,2)\n",
    "    sameindex1 = np.where((cutd < -100) | (cutd > 100))\n",
    "    sameindex2 = np.where((newd < -100) | (newd > 100))\n",
    "    bkgavg = np.mean(coi[index])\n",
    "    oneavg = np.mean(cutf[sameindex1])\n",
    "    twoavg = np.mean(newf[sameindex2])\n",
    "    total = np.sum(coi)-bkgavg*len(coi)\n",
    "    #total = np.sum(coi-bkgavg)\n",
    "    total1 = np.sum(cutf)-oneavg*len(coi)\n",
    "    total2 = np.sum(newf)-twoavg*len(coi)\n",
    "    '''\n",
    "    dexter = np.where((delta > -50) & (delta < 50))\n",
    "    dexter1 = np.where((cutd > -100) & (cutd < 100))\n",
    "    dexter2 = np.where((newd > -100) & (newd < 100))\n",
    "    othertot = np.sum(coi[dexter])\n",
    "    othertot1 = np.sum(cutf[dexter1])\n",
    "    othertot2 = np.sum(newf[dexter2])\n",
    "    '''\n",
    "    #print(total, pol)\n",
    "    return total, total1, total2"
   ]
  },
  {
   "cell_type": "code",
   "execution_count": 10,
   "metadata": {
    "ExecuteTime": {
     "end_time": "2018-09-21T15:06:33.287461Z",
     "start_time": "2018-09-21T15:06:33.149999Z"
    },
    "scrolled": false
   },
   "outputs": [
    {
     "name": "stdout",
     "output_type": "stream",
     "text": [
      "1312\n"
     ]
    }
   ],
   "source": [
    "directory = \"/home/andrew/Documents/BNL 2018/Data/Scalc/\"\n",
    "l_file=os.listdir(directory)\n",
    "l_filesort = []\n",
    "l_label = []\n",
    "print(len(l_file))\n",
    "for i in range (3):\n",
    "    for j in range(3):\n",
    "        for k in range (3):\n",
    "            for l in range (3):\n",
    "                    str_i = str(i)\n",
    "                    str_j = str(j)\n",
    "                    str_k = str(k)\n",
    "                    str_l = str(l)\n",
    "                    s_labelfill = str_i+'x'+str_j+'_'+str_k+'x'+str_l\n",
    "                    l_label.append(s_labelfill)\n",
    "                    for m in range(len(l_file)):   \n",
    "                        if l_file[m].endswith(str_i+'x'+str_j+'_'+str_k+'x'+str_l+'.csv'):\n",
    "                            l_filesort.append(l_file[m])\n",
    "                        \n",
    "# This cell is rather messy, but it gives me labels and sorts all the file names \n",
    "# if you dumped all 1296 files into a single directory. I'll also supply the bash script that does that. "
   ]
  },
  {
   "cell_type": "code",
   "execution_count": 11,
   "metadata": {
    "ExecuteTime": {
     "end_time": "2018-09-21T15:06:40.036777Z",
     "start_time": "2018-09-21T15:06:35.340618Z"
    },
    "scrolled": true
   },
   "outputs": [
    {
     "name": "stdout",
     "output_type": "stream",
     "text": [
      "2.6970553501437102\n",
      "270.3525543286619 NAN SUM TEST\n",
      "[ 0.68521279  0.62289733 -0.63092891  0.75801632] [ 0.02577051  0.0348274  -0.04044299  0.02830271] E & error\n",
      "0.06567911627697287\n",
      "2.684001678060849\n",
      "542.8277940895467 NAN SUM TEST\n",
      "[ 0.67053826  0.655802   -0.6498186   0.70784282] [ 0.01617655  0.01928557 -0.01705086  0.01273411] E & error\n",
      "0.03296215189631693\n",
      "2.5801973793980366\n",
      "297.2143471462944 NAN SUM TEST\n",
      "[ 0.65523386  0.61636981 -0.64917959  0.65941413] [ 0.02410604  0.02817502 -0.03649305  0.03020625] E & error\n",
      "0.06015889917387968\n",
      "2.7501563861754637\n",
      "491.80934569039374 NAN SUM TEST\n",
      "[ 0.69848984  0.64638659 -0.66137348  0.74390647] [ 0.0174734   0.02376063 -0.0191153   0.00962106] E & error\n",
      "0.036439633854976984\n",
      "2.6958782330532243\n",
      "1043.6612666698452 NAN SUM TEST\n",
      "[ 0.68315006  0.66572172 -0.62869809  0.71830837] [ 0.00703948  0.01007606 -0.00979909  0.00696569] E & error\n",
      "0.01719373143802775\n",
      "2.6801393859053473\n",
      "597.8883863773505 NAN SUM TEST\n",
      "[ 0.663218    0.65738296 -0.64104582  0.7184926 ] [ 0.0145678   0.01156793 -0.01747653  0.0161171 ] E & error\n",
      "0.030186546262197144\n",
      "2.690612891149485\n",
      "257.2349982735415 NAN SUM TEST\n",
      "[ 0.7478334   0.7143615  -0.57356375  0.65485424] [ 0.03869917  0.04569007 -0.02803405  0.02705532] E & error\n",
      "0.07143603086284048\n",
      "2.680608480428527\n",
      "532.0194190466715 NAN SUM TEST\n",
      "[ 0.69014059  0.63500034 -0.63630733  0.71916023] [ 0.01331894  0.01794538 -0.0194254   0.01607301] E & error\n",
      "0.0336915192457887\n",
      "2.7760223317988473\n",
      "310.902127262917 NAN SUM TEST\n",
      "[ 0.68356343  0.74418202 -0.64822802  0.70004887] [ 0.02223018  0.02968554 -0.02928902  0.03386784] E & error\n",
      "0.058140257662649554\n",
      "2.725430616137718\n",
      "439.1055763772702 NAN SUM TEST\n",
      "[ 0.70434526  0.65480517 -0.64356531  0.72271487] [ 0.02634299  0.01504561 -0.01667403  0.02253458] E & error\n",
      "0.04130561803870654\n",
      "2.6887265329452967\n",
      "871.7937084672371 NAN SUM TEST\n",
      "[ 0.69084761  0.64474121 -0.63160986  0.72152786] [ 0.010254    0.01123859 -0.01031481  0.00892063] E & error\n",
      "0.020430939472468178\n",
      "2.7370025435699086\n",
      "473.82244321957876 NAN SUM TEST\n",
      "[ 0.72244825  0.64532234 -0.62241905  0.7468129 ] [ 0.01970305  0.01894055 -0.01975512  0.01679339] E & error\n",
      "0.037672769668638056\n",
      "2.720578078162677\n",
      "792.0079477128783 NAN SUM TEST\n",
      "[ 0.68862976  0.67420351 -0.63140512  0.72633969] [ 0.01127177  0.01314061 -0.00957838  0.01113944] E & error\n",
      "0.022705967450288207\n",
      "2.714672574299486\n",
      "1674.9360985987298 NAN SUM TEST\n",
      "[ 0.68391246  0.6721437  -0.62655654  0.73205988] [ 0.0053445   0.00522594 -0.00615755  0.00450923] E & error\n",
      "0.010682824372866124\n",
      "2.702303156590759\n",
      "962.0026950689426 NAN SUM TEST\n",
      "[ 0.68949994  0.66806499 -0.62338534  0.72135288] [ 0.00531409  0.00950774 -0.00999436  0.01174912] E & error\n",
      "0.01888294776969429\n",
      "2.7600664403223076\n",
      "401.03312222289117 NAN SUM TEST\n",
      "[ 0.70418137  0.69758701 -0.63055792  0.72774013] [ 0.02705778  0.02530299 -0.01702763  0.01924518] E & error\n",
      "0.0450852728951832\n",
      "2.71730558170897\n",
      "841.3002009755294 NAN SUM TEST\n",
      "[ 0.71817972  0.66075463 -0.6159398   0.72243143] [ 0.01052479  0.01072676 -0.0060872   0.01419365] E & error\n",
      "0.021548741004103054\n",
      "2.6859416567606376\n",
      "501.7739053308756 NAN SUM TEST\n",
      "[ 0.68995894  0.647728   -0.60525102  0.7430037 ] [ 0.02083286  0.01006086 -0.02212392  0.01569468] E & error\n",
      "0.03565136329244552\n",
      "2.5350015118975477\n",
      "221.70343507937528 NAN SUM TEST\n",
      "[ 0.69613223  0.61190899 -0.57059052  0.65636977] [ 0.03373138  0.03852624 -0.0385374   0.04920216] E & error\n",
      "0.08079642112735631\n",
      "2.659893096345999\n",
      "434.0002396486875 NAN SUM TEST\n",
      "[ 0.67506941  0.65315358 -0.60627364  0.72539646] [ 0.02099812  0.02092247 -0.01999376  0.02005416] E & error\n",
      "0.04099499944072932\n",
      "2.659283706094974\n",
      "237.35356309816814 NAN SUM TEST\n",
      "[ 0.75342218  0.66733756 -0.54420896  0.694315  ] [ 0.0489776   0.03758587 -0.03925579  0.0210569 ] E & error\n",
      "0.07613089566695527\n",
      "2.6576942004637045\n",
      "393.3576158287833 NAN SUM TEST\n",
      "[ 0.6655219   0.6651949  -0.62516596  0.70181144] [ 0.0122346   0.02511173 -0.02764015  0.02464501] E & error\n",
      "0.046385762444514346\n",
      "2.6835371384172397\n",
      "832.8480949015485 NAN SUM TEST\n",
      "[ 0.68377478  0.6718381  -0.59545782  0.73246643] [ 0.00568966  0.01026339 -0.01250637  0.01380271] E & error\n",
      "0.022014392440547554\n",
      "2.673414438816076\n",
      "473.4790390182672 NAN SUM TEST\n",
      "[ 0.68877903  0.60867211 -0.62872097  0.74724233] [ 0.01804727  0.01572997 -0.02409396  0.01789414] E & error\n",
      "0.038390817570994204\n",
      "2.721903275399105\n",
      "199.0156371359115 NAN SUM TEST\n",
      "[ 0.79861819  0.67518474 -0.55600187  0.69209847] [ 0.03953074  0.03729488 -0.04829846  0.05041648] E & error\n",
      "0.08847683420857147\n",
      "2.6013984387366835\n",
      "423.614171584301 NAN SUM TEST\n",
      "[ 0.7335007   0.63612878 -0.54819176  0.6835772 ] [ 0.02065778  0.01977058 -0.02060039  0.0236364 ] E & error\n",
      "0.04243436493317085\n",
      "2.7474448382758965\n",
      "242.91284179920203 NAN SUM TEST\n",
      "[ 0.70596667  0.67703932 -0.70603647  0.65840238] [ 0.03484397  0.03565314 -0.04544015  0.03218665] E & error\n",
      "0.07473979321291754\n",
      "2.724814457222515\n",
      "507.6467799368391 NAN SUM TEST\n",
      "[ 0.6984073   0.68303353 -0.59205029  0.75132333] [ 0.01766626  0.01875131 -0.01594448  0.01825143] E & error\n",
      "0.0353701819178847\n",
      "2.6877287745670753\n",
      "1019.5598327249935 NAN SUM TEST\n",
      "[ 0.68113986  0.65756747 -0.62205945  0.726962  ] [ 0.00878811  0.00686958 -0.01016379  0.00889752] E & error\n",
      "0.01751829021408943\n",
      "2.679308352187471\n",
      "564.7429172868451 NAN SUM TEST\n",
      "[ 0.69003397  0.66965506 -0.61252248  0.70709684] [ 0.01822103  0.01605668 -0.0157071   0.01279021] E & error\n",
      "0.031624754358191634\n",
      "2.7134200204018524\n",
      "931.7266309448494 NAN SUM TEST\n",
      "[ 0.70369858  0.66370702 -0.62306545  0.72294897] [ 0.00790543  0.01019032 -0.0116523   0.00782093] E & error\n",
      "0.019059945509212275\n",
      "2.727830977335824\n",
      "1956.285508928101 NAN SUM TEST\n",
      "[ 0.69009078  0.67866881 -0.62881639  0.730255  ] [ 0.00371505  0.00450518 -0.00431776  0.00568367] E & error\n",
      "0.009222008988497597\n",
      "2.7145157022773105\n",
      "1126.8604816582306 NAN SUM TEST\n",
      "[ 0.69281551  0.67196361 -0.62237922  0.72735736] [ 0.00740063  0.00939964 -0.00595145  0.00876248] E & error\n",
      "0.015978846406071234\n",
      "2.6982144482230774\n",
      "478.22295812077226 NAN SUM TEST\n",
      "[ 0.68193261  0.67837985 -0.61953773  0.71836426] [ 0.01664048  0.01586879 -0.02093901  0.02001957] E & error\n",
      "0.036985794347500184\n",
      "2.68527728430133\n",
      "998.7407511366048 NAN SUM TEST\n",
      "[ 0.68673757  0.66772824 -0.61858941  0.71222207] [ 0.00809857  0.01107887 -0.00730509  0.00932956] E & error\n",
      "0.018130997761186048\n",
      "2.730793817594534\n",
      "586.5628850339519 NAN SUM TEST\n",
      "[ 0.67287626  0.70204816 -0.61814534  0.73772405] [ 0.01469574  0.01287119 -0.0162415   0.0170135 ] E & error\n",
      "0.030575771775913696\n",
      "2.692604171879398\n",
      "865.412903417921 NAN SUM TEST\n",
      "[ 0.6675597   0.65460729 -0.65899382  0.71144335] [ 0.01010515  0.01205679 -0.00542876  0.0124056 ] E & error\n",
      "0.02075693850790331\n",
      "2.7219120826286343\n",
      "1721.7555866553653 NAN SUM TEST\n",
      "[ 0.69053333  0.68286061 -0.62805473  0.72046341] [ 0.00516098  0.00680213 -0.00389715  0.00443669] E & error\n",
      "0.010381553357477124\n",
      "2.6951603819102044\n",
      "956.9842605442685 NAN SUM TEST\n",
      "[ 0.66882873  0.6809986  -0.62727193  0.71806112] [ 0.00761416  0.00874774 -0.01147102  0.00948323] E & error\n",
      "0.01886833635141485\n",
      "2.7278029316209964\n",
      "1566.379908658792 NAN SUM TEST\n",
      "[ 0.68896591  0.67360961 -0.63397235  0.73125506] [ 0.00581354  0.00579292 -0.0042602   0.00689491] E & error\n",
      "0.011534482769115291\n",
      "2.7246965254499895\n",
      "3300.8387420631384 NAN SUM TEST\n",
      "[ 0.69461101  0.67721479 -0.62231852  0.73055221] [ 0.00280217  0.00263871 -0.00313803  0.00214065] E & error\n",
      "0.005407826649655218\n",
      "2.7278177057122646\n",
      "1901.8808121670831 NAN SUM TEST\n",
      "[ 0.69367415  0.67684642 -0.6269299   0.73036723] [ 0.00431621  0.00457039 -0.00500497  0.00501473] E & error\n",
      "0.009471817723931514\n",
      "2.7113444724882676\n",
      "811.6598261272492 NAN SUM TEST\n",
      "[ 0.66852208  0.68724449 -0.61130981  0.7442681 ] [ 0.01161296  0.01215318 -0.00825964  0.01201056] E & error\n",
      "0.022249403159014133\n",
      "2.7358571778025165\n",
      "1675.4959413629078 NAN SUM TEST\n",
      "[ 0.69505734  0.68367664 -0.6260205   0.7311027 ] [ 0.00618509  0.00634447 -0.00390628  0.00462552] E & error\n",
      "0.010731365283456981\n",
      "2.7177895329180464\n",
      "999.5743579976563 NAN SUM TEST\n",
      "[ 0.67807149  0.67284013 -0.64660047  0.72027744] [ 0.00843856  0.00477953 -0.01077294  0.01106098] E & error\n",
      "0.018233337846653347\n",
      "2.6922234291097684\n",
      "446.0851371522747 NAN SUM TEST\n",
      "[ 0.68801299  0.6437494  -0.6284196   0.73204143] [ 0.01946084  0.02224256 -0.01908238  0.01872072] E & error\n",
      "0.03985044874577054\n",
      "2.7008406712947703\n",
      "879.4017941840459 NAN SUM TEST\n",
      "[ 0.69968567  0.66387218 -0.61232787  0.72495495] [ 0.00960325  0.0096423  -0.0087177   0.0128192 ] E & error\n",
      "0.020628292197769994\n",
      "2.6785587310192773\n",
      "493.34044192078363 NAN SUM TEST\n",
      "[ 0.67748074  0.68280597 -0.62018441  0.6980876 ] [ 0.01460269  0.01960816 -0.02154464  0.01616222] E & error\n",
      "0.03637453619061592\n",
      "2.731304983591543\n",
      "804.1607321570425 NAN SUM TEST\n",
      "[ 0.69443715  0.70765833 -0.62611617  0.70309333] [ 0.00858121  0.00852758 -0.01274758  0.01408022] E & error\n",
      "0.022519107948167305\n"
     ]
    },
    {
     "name": "stdout",
     "output_type": "stream",
     "text": [
      "2.7328421964648504\n",
      "1690.7965173392863 NAN SUM TEST\n",
      "[ 0.69387793  0.66917489 -0.63608721  0.73370218] [ 0.00510877  0.00585026 -0.00454059  0.00562288] E & error\n",
      "0.010609374863693993\n",
      "2.726355072356631\n",
      "975.891094986627 NAN SUM TEST\n",
      "[ 0.67652949  0.6848271  -0.6233741   0.74162438] [ 0.01019737  0.00695706 -0.01140682  0.00777025] E & error\n",
      "0.01851700454179151\n",
      "2.6876694734392825\n",
      "416.94633195665665 NAN SUM TEST\n",
      "[ 0.70437422  0.66920249 -0.65421004  0.65988272] [ 0.01624155  0.02163073 -0.02167799  0.02585523] E & error\n",
      "0.043244704229605004\n",
      "2.7571888106002502\n",
      "852.5542819618202 NAN SUM TEST\n",
      "[ 0.6998425   0.69062184 -0.6412578   0.72546667] [ 0.01044494  0.00787336 -0.01378443  0.00925835] E & error\n",
      "0.02113797593448899\n",
      "2.6960699274271946\n",
      "510.885967880781 NAN SUM TEST\n",
      "[ 0.71448687  0.65354185 -0.61067576  0.71736545] [ 0.01588678  0.01745554 -0.01771797  0.01934996] E & error\n",
      "0.03529069501202615\n",
      "2.545942633786867\n",
      "307.3950600044403 NAN SUM TEST\n",
      "[ 0.60194487  0.65155515 -0.59378018  0.69866244] [ 0.02213578  0.0346817  -0.0316872   0.02592868] E & error\n",
      "0.05804470504107021\n",
      "2.7207055258946045\n",
      "599.6907066553972 NAN SUM TEST\n",
      "[ 0.68841565  0.68515796 -0.61894954  0.72818238] [ 0.01543218  0.01194244 -0.0146426   0.01715532] E & error\n",
      "0.029824228219816833\n",
      "2.7320808258536804\n",
      "335.23123287009355 NAN SUM TEST\n",
      "[ 0.71779648  0.61470693 -0.62203503  0.77754238] [ 0.02155144  0.03342158 -0.02030816  0.02978974] E & error\n",
      "0.05367789872450654\n",
      "2.714921905949674\n",
      "550.5842165023287 NAN SUM TEST\n",
      "[ 0.69467659  0.66914754 -0.60903528  0.74206249] [ 0.01339571  0.02362817 -0.01103615  0.0162605 ] E & error\n",
      "0.033525149888051754\n",
      "2.7341815482449934\n",
      "1156.5311570037557 NAN SUM TEST\n",
      "[ 0.68612102  0.68359715 -0.63510924  0.72935414] [ 0.008948    0.00684683 -0.0083116   0.00641622] E & error\n",
      "0.015401175085068197\n",
      "2.7070064920068675\n",
      "669.5603855930385 NAN SUM TEST\n",
      "[ 0.6751447   0.68737534 -0.61213713  0.73234932] [ 0.01283481  0.01602467 -0.01209342  0.01245614] E & error\n",
      "0.02688733120423801\n",
      "2.7362367268470464\n",
      "290.60183968993636 NAN SUM TEST\n",
      "[ 0.64092767  0.78836248 -0.59208829  0.71485828] [ 0.02554099  0.03729611 -0.02927471  0.03218138] E & error\n",
      "0.06273748843390715\n",
      "2.7966764602110183\n",
      "582.0292142524368 NAN SUM TEST\n",
      "[ 0.68399264  0.711919   -0.64790872  0.7528561 ] [ 0.01453771  0.01658005 -0.01446202  0.0162601 ] E & error\n",
      "0.030980381902423717\n",
      "2.715638419794592\n",
      "354.60512843238405 NAN SUM TEST\n",
      "[ 0.71527659  0.63967413 -0.63870656  0.72198114] [ 0.02559714  0.02581995 -0.02471438  0.02490636] E & error\n",
      "0.05052732795284392\n",
      "2.633532518486417\n",
      "576.8540384124814 NAN SUM TEST\n",
      "[ 0.66684432  0.6650089  -0.58326624  0.71841306] [ 0.01703906  0.01390742 -0.01160744  0.01855108] E & error\n",
      "0.031026137656799492\n",
      "2.7262868737193955\n",
      "1141.2732259500835 NAN SUM TEST\n",
      "[ 0.68132349  0.69313009 -0.62898477  0.72284853] [ 0.00763156  0.00640682 -0.00889179  0.00829803] E & error\n",
      "0.01572288891542491\n",
      "2.740075812166258\n",
      "627.0122041095733 NAN SUM TEST\n",
      "[ 0.70366672  0.67303402 -0.62778634  0.73558873] [ 0.01121395  0.01580368 -0.01641359  0.01293381] E & error\n",
      "0.028499094026367827\n",
      "2.7073321034495423\n",
      "1037.1192594497556 NAN SUM TEST\n",
      "[ 0.68993765  0.66855607 -0.62942353  0.71941485] [ 0.00906045  0.0101445  -0.00634125  0.00900146] E & error\n",
      "0.017499723076381302\n",
      "2.7251217062772173\n",
      "2177.4325017442234 NAN SUM TEST\n",
      "[ 0.69035486  0.68221308 -0.62913903  0.72341474] [ 0.00376167  0.00457934 -0.00455099  0.00347291] E & error\n",
      "0.00823972634187354\n",
      "2.7631371370459146\n",
      "1254.9859091905953 NAN SUM TEST\n",
      "[ 0.69750411  0.69329242 -0.6360936   0.73624701] [ 0.00523922  0.008363   -0.00708074  0.00772299] E & error\n",
      "0.01439341987091507\n",
      "2.6677684248678553\n",
      "540.7790487224368 NAN SUM TEST\n",
      "[ 0.68536342  0.65420213 -0.59967514  0.72852773] [ 0.01505913  0.01679909 -0.01560588  0.01853799] E & error\n",
      "0.033108715769462886\n",
      "2.7371212064407278\n",
      "1106.477823154004 NAN SUM TEST\n",
      "[ 0.68962582  0.69776028 -0.63170081  0.7180343 ] [ 0.00838371  0.00889719 -0.00877847  0.00607448] E & error\n",
      "0.016229830154834066\n",
      "2.6982502768532064\n",
      "669.2383883826877 NAN SUM TEST\n",
      "[ 0.66691912  0.70365585 -0.6237228   0.70395251] [ 0.01511013  0.01593083 -0.01039505  0.01142429] E & error\n",
      "0.02684545607471135\n",
      "2.7537604867889742\n",
      "289.7368620145458 NAN SUM TEST\n",
      "[ 0.73699354  0.66974908 -0.63153738  0.71548049] [ 0.01716791  0.02989076 -0.03869703  0.03315232] E & error\n",
      "0.061520168049346485\n",
      "2.687297319153862\n",
      "576.1759950676218 NAN SUM TEST\n",
      "[ 0.68084699  0.65795641 -0.58801138  0.76048254] [ 0.01571071  0.01262175 -0.01722295  0.0162874 ] E & error\n",
      "0.031113410424652727\n",
      "2.6339757615257398\n",
      "323.7680373205736 NAN SUM TEST\n",
      "[ 0.6512096   0.69296177 -0.65180436  0.63800002] [ 0.01942953  0.02530504 -0.03504452  0.03072223] E & error\n",
      "0.05647854311834216\n",
      "2.657466086664978\n",
      "529.880437036473 NAN SUM TEST\n",
      "[ 0.68325169  0.65164739 -0.58851655  0.73405046] [ 0.01721926  0.01671948 -0.01831996  0.01472308] E & error\n",
      "0.03359216784570271\n",
      "2.7132015744053266\n",
      "1106.3649578300874 NAN SUM TEST\n",
      "[ 0.67205338  0.68570614 -0.63325159  0.72219046] [ 0.00881893  0.00676166 -0.00678739  0.00972967] E & error\n",
      "0.01625511164549253\n",
      "2.7547052724143892\n",
      "634.9171172451906 NAN SUM TEST\n",
      "[ 0.69604401  0.70742599 -0.62682664  0.72440864] [ 0.01134885  0.01647255 -0.01382453  0.01453934] E & error\n",
      "0.028331103164685966\n",
      "2.692224123065056\n",
      "267.92838257644604 NAN SUM TEST\n",
      "[ 0.63028163  0.69417002 -0.60728258  0.76048989] [ 0.02722956  0.03723711 -0.02296832  0.04522411] E & error\n",
      "0.0685624873439295\n",
      "2.7602293821088075\n",
      "560.3696563294684 NAN SUM TEST\n",
      "[ 0.72594747  0.6759569  -0.61452936  0.74379565] [ 0.01524508  0.01706268 -0.01823968  0.01293718] E & error\n",
      "0.031993809091188034\n",
      "2.760110090107376\n",
      "331.72242721495996 NAN SUM TEST\n",
      "[ 0.65497547  0.69497472 -0.63635759  0.77380231] [ 0.02939638  0.02540265 -0.02210611  0.03014356] E & error\n",
      "0.05391434269501016\n"
     ]
    }
   ],
   "source": [
    "l_S = []\n",
    "l_S_error = []\n",
    "#for i in range(40,41):\n",
    "for i in range(0,len(l_filesort)//16):\n",
    "    l_filelist = l_filesort[i*16:16*i+16]   \n",
    "    a_delta, a_coi, a_same = data_gather(l_filelist,directory)\n",
    "    #print(len(a_delta))\n",
    "    l_pol = []\n",
    "    for k in range(len(l_filelist)):\n",
    "        s_named = l_filelist[k]\n",
    "        l_pol.append(s_named[4:14])\n",
    "    #a_test = np.column_stack((l_filelist, l_pol))\n",
    "    #print(a_test)\n",
    "    a_total= np.empty(len(a_delta))\n",
    "    a_error = np.empty(len(a_delta))\n",
    "    a_first = np.empty(len(a_delta))\n",
    "    a_firsterror = np.empty(len(a_delta))\n",
    "    a_second = np.empty(len(a_delta))\n",
    "    a_seconderror = np.empty(len(a_delta))\n",
    "    a_param = (200,0,50,20,4,40,30)\n",
    "    a_param3 = (220,0,40,220,0,60,30),\n",
    "    # parameters are of form (amplitude, center, width, amp2, cent2, wid2, offset)\n",
    "    # this means the offset is actually double this parameter, because each gaussian uses it\n",
    "    # might get more functionality if each gaussian had different offsets? \n",
    "    \n",
    "    # commented out is the fitting function for the data. With the new results the hope is that this should \n",
    "    # be used to fit the Gaussians. Remember that I have currently commented out the same fiber fitting as well, \n",
    "    # so if we wanted that, it would need to be put back in\n",
    "    # these fits seem pretty sensitive to initial parameters\n",
    "    '''\n",
    "    for i in range(len(a_delta)):\n",
    "        if len(a_param) < 5:\n",
    "            a_param = (200,0,40,190,0,60,20)\n",
    "        a_total[i], a_error[i],a_param,a_param3 = GaussianFit(a_delta[i],a_coi[i],a_same[i],'/home/andrew/Documents/BNL 2018/Coding/Images/0x0_0x0'+np.str(i)+'.png',l_pol[i],a_param,a_param3)\n",
    "        #print(a_total[i])\n",
    "    totalcts= np.empty(len(a_delta))\n",
    "    first = np.empty(len(a_delta))\n",
    "    second = np.empty(len(a_delta))\n",
    "    #print(coi[0])\n",
    "    '''\n",
    "    for j in range(len(a_delta)):\n",
    "        a_total[j],a_first[j],a_second[j] = CoincidenceCount(a_delta[j],a_coi[j],a_same[j],l_pol[j])\n",
    "        a_error[j] = np.sqrt(np.abs(a_total[j]))\n",
    "    a_totalsort = [x for _,x in sorted (zip(l_pol,a_total))]\n",
    "    a_errorsort = [x for _,x in sorted (zip(l_pol,a_error))]\n",
    "    f_S,C,E = Sval(a_totalsort)\n",
    "    S_error = errorprop(C,E,a_error)\n",
    "    index = np.array([10,6,8,4,11,7,9,5,14,2,12,0,15,3,13,1]) \n",
    "    # index already explained in S_val module\n",
    "    l_pol = np.array(sorted(l_pol))[index]\n",
    "    l_S.append(f_S)\n",
    "    l_S_error.append(S_error)\n",
    "    data = np.column_stack((l_pol,np.array(a_totalsort)[index]))\n",
    "    #print(data)\n",
    "    #print(i)\n",
    "    #print(l_label[i])\n",
    "    np.savetxt('Coincidence'+l_label[i]+'.txt', data,fmt='%s' )\n",
    "a_datamap = np.column_stack((l_label,l_S,l_S_error))\n",
    "#np.savetxt('S_Valuesint.csv',a_datamap,fmt='%s')"
   ]
  },
  {
   "cell_type": "code",
   "execution_count": 12,
   "metadata": {
    "ExecuteTime": {
     "end_time": "2018-09-21T15:06:40.237949Z",
     "start_time": "2018-09-21T15:06:40.227176Z"
    }
   },
   "outputs": [],
   "source": [
    "\n",
    "a_datamap = np.column_stack((l_label,l_S,l_S_error))\n",
    "np.savetxt('S_Values.csv',a_datamap,fmt='%s')"
   ]
  },
  {
   "cell_type": "code",
   "execution_count": 13,
   "metadata": {
    "ExecuteTime": {
     "end_time": "2018-09-21T15:06:40.563302Z",
     "start_time": "2018-09-21T15:06:40.547819Z"
    },
    "scrolled": true
   },
   "outputs": [
    {
     "name": "stdout",
     "output_type": "stream",
     "text": [
      "['A45_B22,5_' 'A135_B22,5' 'A45_B112,5' 'A135_B112,' 'A45_B67,5_'\n",
      " 'A135_B67,5' 'A45_B157,5' 'A135_B157,' 'A90_B22,5_' 'A0_B22,5_W'\n",
      " 'A90_B112,5' 'A0_B112,5_' 'A90_B67,5_' 'A0_B67,5_W' 'A90_B157,5'\n",
      " 'A0_B157,5_']\n"
     ]
    }
   ],
   "source": [
    "l_pol = []\n",
    "i = 0\n",
    "l_filelist = l_filesort[i*16:16*i+16]  \n",
    "for i in range(len(l_filelist)):\n",
    "    s_named = l_filesort[i]\n",
    "    l_pol.append(s_named[4:14])\n",
    "#a = [x for _,x in sorted (zip(l_pol,a_total))]\n",
    "b = sorted(l_pol)\n",
    "#print(l_pol[:16:4])\n",
    "#c = [x for _,x in sorted (zip(l_pol[:16][6:8],a_total))]\n",
    "#print(b)\n",
    "b = np.array(b)\n",
    "index = np.array([10,6,8,4,11,7,9,5,14,2,12,0,15,3,13,1])\n",
    "print(b[index])\n"
   ]
  },
  {
   "cell_type": "code",
   "execution_count": 14,
   "metadata": {
    "ExecuteTime": {
     "end_time": "2018-09-21T15:06:48.633985Z",
     "start_time": "2018-09-21T15:06:40.845805Z"
    },
    "scrolled": false
   },
   "outputs": [
    {
     "name": "stdout",
     "output_type": "stream",
     "text": [
      "['$\\\\sigma = $0.066', '$\\\\sigma = $0.033', '$\\\\sigma = $0.06', '$\\\\sigma = $0.036', '$\\\\sigma = $0.017', '$\\\\sigma = $0.03', '$\\\\sigma = $0.071', '$\\\\sigma = $0.034', '$\\\\sigma = $0.058', '$\\\\sigma = $0.041', '$\\\\sigma = $0.02', '$\\\\sigma = $0.038', '$\\\\sigma = $0.023', '$\\\\sigma = $0.011', '$\\\\sigma = $0.019', '$\\\\sigma = $0.045', '$\\\\sigma = $0.022', '$\\\\sigma = $0.036', '$\\\\sigma = $0.081', '$\\\\sigma = $0.041', '$\\\\sigma = $0.076', '$\\\\sigma = $0.046', '$\\\\sigma = $0.022', '$\\\\sigma = $0.038', '$\\\\sigma = $0.088', '$\\\\sigma = $0.042', '$\\\\sigma = $0.075', '$\\\\sigma = $0.035', '$\\\\sigma = $0.018', '$\\\\sigma = $0.032', '$\\\\sigma = $0.019', '$\\\\sigma = $0.009', '$\\\\sigma = $0.016', '$\\\\sigma = $0.037', '$\\\\sigma = $0.018', '$\\\\sigma = $0.031', '$\\\\sigma = $0.021', '$\\\\sigma = $0.01', '$\\\\sigma = $0.019', '$\\\\sigma = $0.012', '$\\\\sigma = $0.005', '$\\\\sigma = $0.009', '$\\\\sigma = $0.022', '$\\\\sigma = $0.011', '$\\\\sigma = $0.018', '$\\\\sigma = $0.04', '$\\\\sigma = $0.021', '$\\\\sigma = $0.036', '$\\\\sigma = $0.023', '$\\\\sigma = $0.011', '$\\\\sigma = $0.019', '$\\\\sigma = $0.043', '$\\\\sigma = $0.021', '$\\\\sigma = $0.035', '$\\\\sigma = $0.058', '$\\\\sigma = $0.03', '$\\\\sigma = $0.054', '$\\\\sigma = $0.034', '$\\\\sigma = $0.015', '$\\\\sigma = $0.027', '$\\\\sigma = $0.063', '$\\\\sigma = $0.031', '$\\\\sigma = $0.051', '$\\\\sigma = $0.031', '$\\\\sigma = $0.016', '$\\\\sigma = $0.028', '$\\\\sigma = $0.017', '$\\\\sigma = $0.008', '$\\\\sigma = $0.014', '$\\\\sigma = $0.033', '$\\\\sigma = $0.016', '$\\\\sigma = $0.027', '$\\\\sigma = $0.062', '$\\\\sigma = $0.031', '$\\\\sigma = $0.056', '$\\\\sigma = $0.034', '$\\\\sigma = $0.016', '$\\\\sigma = $0.028', '$\\\\sigma = $0.069', '$\\\\sigma = $0.032', '$\\\\sigma = $0.054']\n"
     ]
    },
    {
     "data": {
      "image/png": "[encoded data removed]",
      "text/plain": [
       "<Figure size 720x720 with 10 Axes>"
      ]
     },
     "metadata": {},
     "output_type": "display_data"
    }
   ],
   "source": [
    "# hasn't been modularized, but generates the graphic for S values. \n",
    "a_sval = np.loadtxt('S_Values.csv',dtype = \"float\", usecols = (1))\n",
    "a_test = np.loadtxt('S_Values.csv',dtype = \"str\")\n",
    "a_svalerr = np.loadtxt('S_Values.csv',dtype = \"float\", usecols = (2))\n",
    "#print(a_test)\n",
    "a_s = a_sval\n",
    "title = []\n",
    "a_subplot = [0]*9\n",
    "a_errors = [0]*9\n",
    "a_errnum = [0]*9\n",
    "for i in range(3):\n",
    "    for j in range(3):\n",
    "        title.append(np.str(i)+'x'+np.str(j))\n",
    "fig, axn = plt.subplots(3, 3, sharey=True, sharex = True, figsize = (10,10))\n",
    "cbar_ax = fig.add_axes([.91, .3, .03, .4])\n",
    "plt.rcParams[\"font.family\"] = \"Times New Roman\"\n",
    "label = [0]*81\n",
    "for i in range(81):\n",
    "    #label[i] = np.str(np.around(a_s[i],2)) + \"+\\-\" + np.str(np.around(a_svalerr[i],2))\n",
    "    label[i] = '$\\sigma = $' +  np.str(np.around(a_svalerr[i],3))\n",
    "print(label)\n",
    "for i in range(9):\n",
    "    a_subplot[i] = np.row_stack(((a_s[i*9:9*i+3]),a_s[i*9+3:9*i+6],a_s[i*9+6:9*i+9]))\n",
    "    a_errors[i] = np.row_stack(((label[i*9:9*i+3]),label[i*9+3:9*i+6],label[i*9+6:9*i+9]))\n",
    "    a_errnum[i] = np.row_stack(((a_svalerr[i*9:9*i+3]),a_svalerr[i*9+3:9*i+6],a_svalerr[i*9+6:9*i+9]))\n",
    "    #print(a_subplot[i],i)\n",
    "#print(a_subplot)\n",
    "#print(a_errors)\n",
    "\n",
    "for i, ax in enumerate(axn.flat):\n",
    "    sns.heatmap(np.around(a_subplot[i],2), annot=a_errors[i], fmt='',annot_kws={\"size\": 10}, ax=ax,cbar=i == 0,\n",
    "                vmin=2.60, vmax=2.80,       # these min & maxes should change when we get a max of 2.82\n",
    "                cbar_ax=None if i else cbar_ax,cmap=\"YlGnBu\" ) # feel free to change the color\n",
    "    ax.set_title(title[i],fontweight=\"bold\")\n",
    "    for label in ax.get_yticklabels():\n",
    "        label.set_weight(\"bold\")\n",
    "    for label in ax.get_xticklabels():\n",
    "        label.set_weight(\"bold\")\n",
    "plt.savefig('tomography.eps', bbox_inches='tight')\n",
    "plt.show()"
   ]
  },
  {
   "cell_type": "code",
   "execution_count": 15,
   "metadata": {
    "ExecuteTime": {
     "end_time": "2018-09-21T15:06:48.855731Z",
     "start_time": "2018-09-21T15:06:48.839021Z"
    }
   },
   "outputs": [
    {
     "name": "stdout",
     "output_type": "stream",
     "text": [
      "[[0.06567912 0.03296215 0.0601589 ]\n",
      " [0.03643963 0.01719373 0.03018655]\n",
      " [0.07143603 0.03369152 0.05814026]]\n"
     ]
    }
   ],
   "source": [
    "def f(x, y):\n",
    "    return np.sin(np.sqrt(x ** 2 + y ** 2))\n",
    "\n",
    "x = np.linspace(0, 2, 3)\n",
    "y = np.linspace(0, 2, 3)\n",
    "\n",
    "X, Y = np.meshgrid(x, y)\n",
    "Z = a_subplot[0]\n",
    "sigma = a_errnum[0]\n",
    "print(sigma)"
   ]
  },
  {
   "cell_type": "code",
   "execution_count": 16,
   "metadata": {
    "ExecuteTime": {
     "end_time": "2018-09-21T15:06:49.275389Z",
     "start_time": "2018-09-21T15:06:49.091894Z"
    }
   },
   "outputs": [
    {
     "name": "stdout",
     "output_type": "stream",
     "text": [
      "[0. 1. 2.]\n",
      "[[1.]]\n"
     ]
    },
    {
     "ename": "IndexError",
     "evalue": "too many indices for array",
     "output_type": "error",
     "traceback": [
      "\u001b[0;31m---------------------------------------------------------------------------\u001b[0m",
      "\u001b[0;31mIndexError\u001b[0m                                Traceback (most recent call last)",
      "\u001b[0;32m<ipython-input-16-9e608f1ba679>\u001b[0m in \u001b[0;36m<module>\u001b[0;34m()\u001b[0m\n\u001b[1;32m      3\u001b[0m \u001b[0mtest1\u001b[0m\u001b[0;34m,\u001b[0m \u001b[0mtest2\u001b[0m \u001b[0;34m=\u001b[0m \u001b[0mnp\u001b[0m\u001b[0;34m.\u001b[0m\u001b[0mmeshgrid\u001b[0m\u001b[0;34m(\u001b[0m\u001b[0mx\u001b[0m\u001b[0;34m[\u001b[0m\u001b[0;36m1\u001b[0m\u001b[0;34m]\u001b[0m\u001b[0;34m,\u001b[0m\u001b[0my\u001b[0m\u001b[0;34m[\u001b[0m\u001b[0;36m1\u001b[0m\u001b[0;34m]\u001b[0m\u001b[0;34m)\u001b[0m\u001b[0;34m\u001b[0m\u001b[0m\n\u001b[1;32m      4\u001b[0m \u001b[0mprint\u001b[0m\u001b[0;34m(\u001b[0m\u001b[0mtest1\u001b[0m\u001b[0;34m)\u001b[0m\u001b[0;34m\u001b[0m\u001b[0m\n\u001b[0;32m----> 5\u001b[0;31m \u001b[0mprint\u001b[0m\u001b[0;34m(\u001b[0m\u001b[0mX\u001b[0m\u001b[0;34m[\u001b[0m\u001b[0;36m1\u001b[0m\u001b[0;34m,\u001b[0m\u001b[0;36m2\u001b[0m\u001b[0;34m,\u001b[0m\u001b[0;36m2\u001b[0m\u001b[0;34m]\u001b[0m\u001b[0;34m)\u001b[0m\u001b[0;34m\u001b[0m\u001b[0m\n\u001b[0m",
      "\u001b[0;31mIndexError\u001b[0m: too many indices for array"
     ]
    }
   ],
   "source": [
    "print(X[1])\n",
    "#print(x[1])\n",
    "test1, test2 = np.meshgrid(x[1],y[1])\n",
    "print(test1)\n",
    "print(X[1,2,2])"
   ]
  },
  {
   "cell_type": "code",
   "execution_count": null,
   "metadata": {
    "ExecuteTime": {
     "end_time": "2018-09-21T15:06:49.277308Z",
     "start_time": "2018-09-21T15:06:38.013Z"
    }
   },
   "outputs": [],
   "source": [
    "print(len(a_subplot))"
   ]
  },
  {
   "cell_type": "code",
   "execution_count": null,
   "metadata": {
    "ExecuteTime": {
     "end_time": "2018-09-21T15:06:49.280340Z",
     "start_time": "2018-09-21T15:06:38.317Z"
    }
   },
   "outputs": [],
   "source": [
    "x = np.empty((3,9))\n",
    "y = np.empty((3,9))\n",
    "Z = np.empty((3,3,9))\n",
    "sigma = np.empty((3,3,9))\n",
    "X = np.empty((3,3,9))\n",
    "Y = np.empty((3,3,9))\n",
    "for i in range(3):\n",
    "    x[:,i] = np.linspace(i*3, 2+3*i, 3)\n",
    "    y[:,i] = np.linspace(i*3, 2+3*i, 3)\n",
    "    fill1, fill2 = np.meshgrid(x[:,i], y[:,i])\n",
    "    X[:,:,i]= fill1\n",
    "    Y[:,:,i]= fill2\n",
    "    Z[:,:,i] = a_subplot[i]\n",
    "    print(Z[:,:,i])\n",
    "    sigma[:,:,i] = a_errnum[i]\n",
    "    "
   ]
  },
  {
   "cell_type": "code",
   "execution_count": null,
   "metadata": {
    "ExecuteTime": {
     "end_time": "2018-09-21T15:06:49.283509Z",
     "start_time": "2018-09-21T15:06:38.654Z"
    }
   },
   "outputs": [],
   "source": [
    "z = np.empty((9,9))\n",
    "for i in range(9):\n",
    "    z[:,i] = Z[:,:,i].flatten()\n",
    "print(z[i])"
   ]
  },
  {
   "cell_type": "code",
   "execution_count": null,
   "metadata": {
    "ExecuteTime": {
     "end_time": "2018-09-21T15:06:49.286739Z",
     "start_time": "2018-09-21T15:06:39.004Z"
    }
   },
   "outputs": [],
   "source": [
    "from matplotlib.ticker import MaxNLocator\n",
    "fig = plt.figure(figsize = (8,8))\n",
    "ax = plt.axes(projection='3d')\n",
    "for i in range(9):\n",
    "    ax.scatter(X[:,:,i], Y[:,:,i], Z[:,:,i], s = 40, marker = 'o', c = z[i],\n",
    "                cmap='YlGnBu', edgecolor='none' )\n",
    "\n",
    "\n",
    "#ax.scatter(X, Y, Z_poserr, \n",
    "#                cmap='YlGnBu', edgecolor='none', alpha = 0.5)\n",
    "#ax.scatter(X, Y, Z_negerr, \n",
    "#                cmap='YlGnBu', edgecolor='none', alpha = 0.5)\n",
    "ax.set_title('surface');\n",
    "ax.set_xlabel('x')\n",
    "ax.set_ylabel('y')\n",
    "ax.set_zlabel('z');\n",
    "ax.xaxis.set_major_locator(MaxNLocator(integer=True))\n",
    "ax.yaxis.set_major_locator(MaxNLocator(integer=True))\n",
    "#ax.view_init(20, 55)\n"
   ]
  }
 ],
 "metadata": {
  "kernelspec": {
   "display_name": "Python 3",
   "language": "python",
   "name": "python3"
  },
  "language_info": {
   "codemirror_mode": {
    "name": "ipython",
    "version": 3
   },
   "file_extension": ".py",
   "mimetype": "text/x-python",
   "name": "python",
   "nbconvert_exporter": "python",
   "pygments_lexer": "ipython3",
   "version": "3.6.5"
  },
  "varInspector": {
   "cols": {
    "lenName": 16,
    "lenType": 16,
    "lenVar": 40
   },
   "kernels_config": {
    "python": {
     "delete_cmd_postfix": "",
     "delete_cmd_prefix": "del ",
     "library": "var_list.py",
     "varRefreshCmd": "print(var_dic_list())"
    },
    "r": {
     "delete_cmd_postfix": ") ",
     "delete_cmd_prefix": "rm(",
     "library": "var_list.r",
     "varRefreshCmd": "cat(var_dic_list()) "
    }
   },
   "oldHeight": 471,
   "position": {
    "height": "40px",
    "left": "656px",
    "right": "-28px",
    "top": "72px",
    "width": "683px"
   },
   "types_to_exclude": [
    "module",
    "function",
    "builtin_function_or_method",
    "instance",
    "_Feature"
   ],
   "varInspector_section_display": "none",
   "window_display": true
  }
 },
 "nbformat": 4,
 "nbformat_minor": 2
}
