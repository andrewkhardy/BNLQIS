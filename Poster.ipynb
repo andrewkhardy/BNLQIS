{
 "cells": [
  {
   "cell_type": "code",
   "execution_count": 1,
   "metadata": {
    "ExecuteTime": {
     "end_time": "2018-09-21T15:04:44.986205Z",
     "start_time": "2018-09-21T15:04:43.009480Z"
    }
   },
   "outputs": [
    {
     "name": "stdout",
     "output_type": "stream",
     "text": [
      "Fri Sep 21 11:04:44 2018\n"
     ]
    }
   ],
   "source": [
    "import os\n",
    "import numpy as np\n",
    "import pandas as pd\n",
    "import matplotlib as mpl\n",
    "import matplotlib.pyplot as plt\n",
    "import matplotlib.mlab as mlab\n",
    "from mpl_toolkits.mplot3d import Axes3D\n",
    "from matplotlib import cm\n",
    "from scipy.optimize import curve_fit\n",
    "import scipy.signal as spy\n",
    "import glob\n",
    "import time\n",
    "import seaborn as sns\n",
    "sns.set()\n",
    "sns.set_style(\"whitegrid\")\n",
    "import imageio\n",
    "import moviepy.editor as mpy\n",
    "import pandas as pd\n",
    "print(time.ctime())\n",
    "%matplotlib inline\n",
    "#%matplotlib notebook\n",
    "#import cmocean\n",
    "#import mpld3\n",
    "#mpld3.enable_notebook()\n",
    "plt.rcParams[\"font.family\"] = \"Times New Roman\""
   ]
  },
  {
   "cell_type": "code",
   "execution_count": 2,
   "metadata": {
    "ExecuteTime": {
     "end_time": "2018-09-21T15:04:45.002653Z",
     "start_time": "2018-09-21T15:04:44.995635Z"
    }
   },
   "outputs": [],
   "source": [
    "def data_gather(datasource, centered):\n",
    "    #The function decides which data file you want based on the source, and whether \n",
    "    # you want the centered version or not. \n",
    "    #the offset is currently hardcoded based on a value all the values shared\n",
    "    #still thinking about a way have it be variable\n",
    "    if datasource == 0:\n",
    "        directory = '/home/andrew/Documents/BNL 2018/Data/'\n",
    "        file = directory + 'PolA000PolB000_DiodeCurrent_40,2mAW0028_H11-180711-162519-1.csv'\n",
    "        data=np.loadtxt(file, dtype= float, delimiter=\",\", usecols = (0,1,2,3))\n",
    "\n",
    "        if centered  ==  1:\n",
    "            file = directory + 'PolA000PolB000_DiodeCurrent_35,2mAW0028_H11-180711-164524-1_cent.csv'\n",
    "            data=np.loadtxt(file, dtype= float, delimiter=\",\", usecols = (0,1,2,3))\n",
    "        x = data[:, 0]                                                          # places data in separate arrays\n",
    "        y = data[:, 1]\n",
    "        t = data[:, 2]\n",
    "        a = data[:, 3]\n",
    "    return x,y,t,a"
   ]
  },
  {
   "cell_type": "code",
   "execution_count": 6,
   "metadata": {
    "ExecuteTime": {
     "end_time": "2018-09-21T15:18:33.393948Z",
     "start_time": "2018-09-21T15:18:33.376984Z"
    }
   },
   "outputs": [],
   "source": [
    "def clean(x,y,t,a, n = np.empty(1), size = 500000000):\n",
    "   # a function that for lack of a better term, cleans up the data. \n",
    "    #It applies the offset to time and converts to nanoseconds\n",
    "    # Takes a much smaller slice of data, and has the option to delete old massive arrays\n",
    "    xdata = x[0:size]\n",
    "    ydata= y[0:size]\n",
    "    adata = a[0:size]\n",
    "    ndata = n[0:size]\n",
    "    trough = t[0:size]\n",
    "    trough = trough[0:size] -trough[0]\n",
    "    tdata = trough/(2**12)*25\n",
    "    if len(ndata) > 10:                  \n",
    "        return (xdata,ydata,tdata,adata, ndata)\n",
    "    else:\n",
    "        return(xdata,ydata,tdata,adata)"
   ]
  },
  {
   "cell_type": "code",
   "execution_count": 4,
   "metadata": {
    "ExecuteTime": {
     "end_time": "2018-09-21T15:17:57.036824Z",
     "start_time": "2018-09-21T15:04:45.028284Z"
    },
    "scrolled": false
   },
   "outputs": [],
   "source": [
    "x,y,t,a = data_gather(0,0)\n"
   ]
  },
  {
   "cell_type": "code",
   "execution_count": 7,
   "metadata": {
    "ExecuteTime": {
     "end_time": "2018-09-21T15:18:36.957761Z",
     "start_time": "2018-09-21T15:18:36.896358Z"
    },
    "scrolled": true
   },
   "outputs": [
    {
     "ename": "MemoryError",
     "evalue": "",
     "output_type": "error",
     "traceback": [
      "\u001b[0;31m---------------------------------------------------------------------------\u001b[0m",
      "\u001b[0;31mMemoryError\u001b[0m                               Traceback (most recent call last)",
      "\u001b[0;32m<ipython-input-7-fb4df52c3bc0>\u001b[0m in \u001b[0;36m<module>\u001b[0;34m()\u001b[0m\n\u001b[0;32m----> 1\u001b[0;31m \u001b[0mxdata\u001b[0m\u001b[0;34m,\u001b[0m \u001b[0mydata\u001b[0m\u001b[0;34m,\u001b[0m\u001b[0mtdata\u001b[0m\u001b[0;34m,\u001b[0m\u001b[0madata\u001b[0m \u001b[0;34m=\u001b[0m \u001b[0mclean\u001b[0m\u001b[0;34m(\u001b[0m\u001b[0mx\u001b[0m\u001b[0;34m,\u001b[0m\u001b[0my\u001b[0m\u001b[0;34m,\u001b[0m\u001b[0mt\u001b[0m\u001b[0;34m,\u001b[0m\u001b[0ma\u001b[0m\u001b[0;34m)\u001b[0m\u001b[0;34m\u001b[0m\u001b[0m\n\u001b[0m",
      "\u001b[0;32m<ipython-input-6-0fdd7e452611>\u001b[0m in \u001b[0;36mclean\u001b[0;34m(x, y, t, a, n, size)\u001b[0m\n\u001b[1;32m      8\u001b[0m     \u001b[0mndata\u001b[0m \u001b[0;34m=\u001b[0m \u001b[0mn\u001b[0m\u001b[0;34m[\u001b[0m\u001b[0;36m0\u001b[0m\u001b[0;34m:\u001b[0m\u001b[0msize\u001b[0m\u001b[0;34m]\u001b[0m\u001b[0;34m\u001b[0m\u001b[0m\n\u001b[1;32m      9\u001b[0m     \u001b[0mtrough\u001b[0m \u001b[0;34m=\u001b[0m \u001b[0mt\u001b[0m\u001b[0;34m[\u001b[0m\u001b[0;36m0\u001b[0m\u001b[0;34m:\u001b[0m\u001b[0msize\u001b[0m\u001b[0;34m]\u001b[0m\u001b[0;34m\u001b[0m\u001b[0m\n\u001b[0;32m---> 10\u001b[0;31m     \u001b[0mtrough\u001b[0m \u001b[0;34m=\u001b[0m \u001b[0mtrough\u001b[0m\u001b[0;34m[\u001b[0m\u001b[0;36m0\u001b[0m\u001b[0;34m:\u001b[0m\u001b[0msize\u001b[0m\u001b[0;34m]\u001b[0m \u001b[0;34m-\u001b[0m\u001b[0mtrough\u001b[0m\u001b[0;34m[\u001b[0m\u001b[0;36m0\u001b[0m\u001b[0;34m]\u001b[0m\u001b[0;34m\u001b[0m\u001b[0m\n\u001b[0m\u001b[1;32m     11\u001b[0m     \u001b[0mtdata\u001b[0m \u001b[0;34m=\u001b[0m \u001b[0mtrough\u001b[0m\u001b[0;34m/\u001b[0m\u001b[0;34m(\u001b[0m\u001b[0;36m2\u001b[0m\u001b[0;34m**\u001b[0m\u001b[0;36m12\u001b[0m\u001b[0;34m)\u001b[0m\u001b[0;34m*\u001b[0m\u001b[0;36m25\u001b[0m\u001b[0;34m\u001b[0m\u001b[0m\n\u001b[1;32m     12\u001b[0m     \u001b[0;32mif\u001b[0m \u001b[0mlen\u001b[0m\u001b[0;34m(\u001b[0m\u001b[0mndata\u001b[0m\u001b[0;34m)\u001b[0m \u001b[0;34m>\u001b[0m \u001b[0;36m10\u001b[0m\u001b[0;34m:\u001b[0m\u001b[0;34m\u001b[0m\u001b[0m\n",
      "\u001b[0;31mMemoryError\u001b[0m: "
     ]
    }
   ],
   "source": [
    "xdata, ydata,tdata,adata = clean(x,y,t,a)"
   ]
  },
  {
   "cell_type": "code",
   "execution_count": 8,
   "metadata": {
    "ExecuteTime": {
     "end_time": "2018-09-21T15:18:39.088558Z",
     "start_time": "2018-09-21T15:18:39.062216Z"
    }
   },
   "outputs": [
    {
     "ename": "NameError",
     "evalue": "name 'xdata' is not defined",
     "output_type": "error",
     "traceback": [
      "\u001b[0;31m---------------------------------------------------------------------------\u001b[0m",
      "\u001b[0;31mNameError\u001b[0m                                 Traceback (most recent call last)",
      "\u001b[0;32m<ipython-input-8-cb30d778e85f>\u001b[0m in \u001b[0;36m<module>\u001b[0;34m()\u001b[0m\n\u001b[0;32m----> 1\u001b[0;31m \u001b[0mmap\u001b[0m \u001b[0;34m=\u001b[0m \u001b[0mpd\u001b[0m\u001b[0;34m.\u001b[0m\u001b[0mDataFrame\u001b[0m\u001b[0;34m(\u001b[0m\u001b[0;34m{\u001b[0m\u001b[0;34m'x'\u001b[0m\u001b[0;34m:\u001b[0m \u001b[0mxdata\u001b[0m\u001b[0;34m,\u001b[0m\u001b[0;34m'y'\u001b[0m\u001b[0;34m:\u001b[0m \u001b[0mydata\u001b[0m\u001b[0;34m,\u001b[0m\u001b[0;34m't'\u001b[0m\u001b[0;34m:\u001b[0m \u001b[0mtdata\u001b[0m\u001b[0;34m,\u001b[0m\u001b[0;34m'a'\u001b[0m\u001b[0;34m:\u001b[0m \u001b[0madata\u001b[0m\u001b[0;34m}\u001b[0m\u001b[0;34m)\u001b[0m\u001b[0;34m\u001b[0m\u001b[0m\n\u001b[0m",
      "\u001b[0;31mNameError\u001b[0m: name 'xdata' is not defined"
     ]
    }
   ],
   "source": [
    "map = pd.DataFrame({'x': xdata,'y': ydata,'t': tdata,'a': adata})"
   ]
  },
  {
   "cell_type": "code",
   "execution_count": null,
   "metadata": {
    "ExecuteTime": {
     "end_time": "2018-09-21T15:17:58.050066Z",
     "start_time": "2018-09-21T15:04:45.263Z"
    },
    "code_folding": []
   },
   "outputs": [],
   "source": [
    "TOT = np.zeros([256,256] )\n",
    "TOTcts = np.zeros([256,256])\n",
    "#for i in range(1738):\n",
    "for i in range(99999999):\n",
    "    x_i = np.abs(xdata[i].astype(int)-255)\n",
    "    y_i = ydata[i].astype(int) \n",
    "    TOT[x_i,y_i] += tdata[i]\n",
    "    TOTcts[x_i,y_i]+= 1"
   ]
  },
  {
   "cell_type": "code",
   "execution_count": null,
   "metadata": {
    "ExecuteTime": {
     "end_time": "2018-09-21T15:17:58.061760Z",
     "start_time": "2018-09-21T15:04:45.452Z"
    },
    "scrolled": false
   },
   "outputs": [],
   "source": [
    "size =6\n",
    "TOTblock = np.zeros([size,size])\n",
    "TOTblockcts = np.zeros([size,size])\n",
    "TOTblock1 = np.zeros([size,size])\n",
    "TOTblockcts1 = np.zeros([size,size])\n",
    "TOTblock2 = np.zeros([size,size])\n",
    "TOTblockcts2 = np.zeros([size,size])\n",
    "TOTblock3 = np.zeros([size,size])\n",
    "TOTblockcts3 = np.zeros([size,size])\n",
    "TOTblock4 = np.zeros([size,size])\n",
    "TOTblockcts4 = np.zeros([size,size])\n",
    "lowx = 114\n",
    "lowy = 138\n",
    "for i in range(752,775):\n",
    "    if xdata[i] > lowx and xdata[i] < lowx + size and ydata[i] > lowy and ydata[i] < lowy + size:\n",
    "        x_i = xdata[i].astype(int)-lowx\n",
    "        y_i = ydata[i].astype(int)-lowy\n",
    "        TOTblock[x_i,y_i] += adata[i]\n",
    "        TOTblockcts[x_i,y_i]+= 1\n",
    "lowx = 125\n",
    "lowy = 187\n",
    "for i in range(925,935):\n",
    "    if xdata[i] > lowx and xdata[i] < lowx + size and ydata[i] > lowy and ydata[i] < lowy + size:\n",
    "        x_i = xdata[i].astype(int)-lowx\n",
    "        y_i = ydata[i].astype(int)-lowy\n",
    "        TOTblock1[x_i,y_i] += adata[i]\n",
    "        TOTblockcts1[x_i,y_i]+= 1\n",
    "lowx = 180\n",
    "lowy = 73        \n",
    "for i in range(410,425):\n",
    "    if xdata[i] > lowx and xdata[i] < lowx + size and ydata[i] > lowy and ydata[i] < lowy + size:\n",
    "        x_i = xdata[i].astype(int)-lowx\n",
    "        y_i = ydata[i].astype(int)-lowy\n",
    "        TOTblock2[x_i,y_i] += adata[i]\n",
    "        TOTblockcts2[x_i,y_i]+= 1\n",
    "lowx = 163\n",
    "lowy = 172 \n",
    "for i in range(825,835):\n",
    "    if xdata[i] > lowx and xdata[i] < lowx + size and ydata[i] > lowy and ydata[i] < lowy + size:\n",
    "        x_i = xdata[i].astype(int)-lowx\n",
    "        y_i = ydata[i].astype(int)-lowy\n",
    "        TOTblock3[x_i,y_i] += adata[i]\n",
    "        TOTblockcts3[x_i,y_i]+= 1\n",
    "lowx = 144\n",
    "lowy = 146\n",
    "for i in range(371,380):\n",
    "    if xdata[i] > lowx and xdata[i] < lowx + size and ydata[i] > lowy and ydata[i] < lowy + size:\n",
    "        x_i = xdata[i].astype(int)-lowx\n",
    "        y_i = ydata[i].astype(int)-lowy\n",
    "        TOTblock4[x_i,y_i] += adata[i]\n",
    "        TOTblockcts4[x_i,y_i]+= 1\n",
    "        \n",
    "TOTblockplot = TOTblock/TOTblockcts\n",
    "TOTblockplot1 = TOTblock1/TOTblockcts1\n",
    "TOTblockplot2 = TOTblock2/TOTblockcts2\n",
    "TOTblockplot3 = TOTblock3/TOTblockcts3\n",
    "TOTblockplot4 = TOTblock4/TOTblockcts4"
   ]
  },
  {
   "cell_type": "code",
   "execution_count": null,
   "metadata": {
    "ExecuteTime": {
     "end_time": "2018-09-21T15:17:58.072542Z",
     "start_time": "2018-09-21T15:04:45.659Z"
    }
   },
   "outputs": [],
   "source": [
    "size =6\n",
    "TOAblock = np.zeros([size,size])\n",
    "TOAblockcts = np.zeros([size,size])\n",
    "TOAblock1 = np.zeros([size,size])\n",
    "TOAblockcts1 = np.zeros([size,size])\n",
    "TOAblock2 = np.zeros([size,size])\n",
    "TOAblockcts2 = np.zeros([size,size])\n",
    "TOAblock3 = np.zeros([size,size])\n",
    "TOAblockcts3 = np.zeros([size,size])\n",
    "TOAblock4 = np.zeros([size,size])\n",
    "TOAblockcts4 = np.zeros([size,size])\n",
    "lowx = 114\n",
    "lowy = 138\n",
    "for i in range(756,762):\n",
    "    if xdata[i] > lowx and xdata[i] < lowx + size and ydata[i] > lowy and ydata[i] < lowy + size:\n",
    "        x_i = xdata[i].astype(int)-lowx\n",
    "        y_i = ydata[i].astype(int)-lowy\n",
    "        TOAblock[x_i,y_i] += (tdata[i]-tdata[756])\n",
    "        TOAblockcts[x_i,y_i]+= 1\n",
    "lowx = 125\n",
    "lowy = 187\n",
    "for i in range(925,929):\n",
    "    if xdata[i] > lowx and xdata[i] < lowx + size and ydata[i] > lowy and ydata[i] < lowy + size:\n",
    "        x_i = xdata[i].astype(int)-lowx\n",
    "        y_i = ydata[i].astype(int)-lowy\n",
    "        TOAblock1[x_i,y_i] += (tdata[i]-tdata[925])\n",
    "        TOAblockcts1[x_i,y_i]+= 1\n",
    "lowx = 180\n",
    "lowy = 73        \n",
    "for i in range(415,420):\n",
    "    if xdata[i] > lowx and xdata[i] < lowx + size and ydata[i] > lowy and ydata[i] < lowy + size:\n",
    "        x_i = xdata[i].astype(int)-lowx\n",
    "        y_i = ydata[i].astype(int)-lowy\n",
    "        TOAblock2[x_i,y_i] += (tdata[i]-tdata[415])\n",
    "        TOAblockcts2[x_i,y_i]+= 1\n",
    "lowx = 163\n",
    "lowy = 172 \n",
    "for i in range(830,835):\n",
    "    if xdata[i] > lowx and xdata[i] < lowx + size and ydata[i] > lowy and ydata[i] < lowy + size:\n",
    "        x_i = xdata[i].astype(int)-lowx\n",
    "        y_i = ydata[i].astype(int)-lowy\n",
    "        TOAblock3[x_i,y_i] += (tdata[i]-tdata[830])\n",
    "        TOAblockcts3[x_i,y_i]+= 1\n",
    "lowx = 144\n",
    "lowy = 146\n",
    "for i in range(371,380):\n",
    "    if xdata[i] > lowx and xdata[i] < lowx + size and ydata[i] > lowy and ydata[i] < lowy + size:\n",
    "        x_i = xdata[i].astype(int)-lowx\n",
    "        y_i = ydata[i].astype(int)-lowy\n",
    "        TOAblock4[x_i,y_i] += (tdata[i]-tdata[371])\n",
    "        TOAblockcts4[x_i,y_i]+= 1\n",
    "        \n",
    "TOAblockplot = TOAblock/TOAblockcts\n",
    "TOAblockplot1 = TOAblock1/TOAblockcts1\n",
    "TOAblockplot2 = TOAblock2/TOAblockcts2\n",
    "TOAblockplot3 = TOAblock3/TOAblockcts3\n",
    "TOAblockplot4 = TOAblock4/TOAblockcts4"
   ]
  },
  {
   "cell_type": "code",
   "execution_count": null,
   "metadata": {
    "ExecuteTime": {
     "end_time": "2018-09-21T15:17:58.081589Z",
     "start_time": "2018-09-21T15:04:45.887Z"
    },
    "scrolled": false
   },
   "outputs": [],
   "source": [
    "blockplot = TOTblockcts\n",
    "plt.figure(figsize = (12,12))\n",
    "sns.heatmap(TOAblockplot,linewidths=.01,linecolor='black',cmap = 'plasma')\n",
    "plt.show()"
   ]
  },
  {
   "cell_type": "code",
   "execution_count": null,
   "metadata": {
    "ExecuteTime": {
     "end_time": "2018-09-21T15:17:58.087637Z",
     "start_time": "2018-09-21T15:04:46.433Z"
    },
    "scrolled": false
   },
   "outputs": [],
   "source": [
    "plot = TOT/TOTcts\n",
    "#plot = TOTcts\n",
    "fig = plt.figure(figsize = (10,8))\n",
    "ax0 = fig.add_axes([0, 0.2, 1, 0.8])\n",
    "sns.heatmap(plot, ax = ax0,cmap = 'Spectral_r', yticklabels=False,xticklabels=False)\n",
    "ax1 = fig.add_axes([0.06, 0.01, 0.15, 0.15],\n",
    "                   xticklabels=[], yticklabels = [])\n",
    "sns.heatmap(blockplot,ax=ax1, cmap = 'Spectral_r', yticklabels=False,xticklabels=False, cbar = False)\n",
    "for axis in ['top','bottom','left','right']:\n",
    "    ax1.spines[axis].set_visible(True)\n",
    "    ax1.spines[axis].set_color('black')\n",
    "    ax1.spines[axis].set_visible(True)\n",
    "    ax1.spines[axis].set_color('black') \n",
    "ax2 = fig.add_axes([0.28, 0.01, 0.15, 0.15],\n",
    "                   xticklabels=[], yticklabels = [])\n",
    "sns.heatmap(blockplot1,ax=ax2,cmap = 'Spectral_r', yticklabels=False,xticklabels=False, cbar = False)\n",
    "for axis in ['top','bottom','left','right']:\n",
    "    ax2.spines[axis].set_visible(True)\n",
    "    ax2.spines[axis].set_color('black')\n",
    "    ax2.spines[axis].set_visible(True)\n",
    "    ax2.spines[axis].set_color('black')\n",
    "ax3 = fig.add_axes([0.5, 0.01, 0.15, 0.15],\n",
    "                   xticklabels=[], yticklabels = [])\n",
    "sns.heatmap(blockplot2,ax=ax3,  cmap = 'Spectral_r',yticklabels=False,xticklabels=False, cbar = False)\n",
    "for axis in ['top','bottom','left','right']:\n",
    "    ax3.spines[axis].set_visible(True)\n",
    "    ax3.spines[axis].set_color('black')\n",
    "    ax3.spines[axis].set_visible(True)\n",
    "    ax3.spines[axis].set_color('black') \n",
    "ax4 = fig.add_axes([0.72, 0.01, 0.15, 0.15],\n",
    "                   xticklabels=[], yticklabels = [])\n",
    "sns.heatmap(blockplot3,ax=ax4, cmap = 'Spectral_r', yticklabels=False,xticklabels=False, cbar = False)\n",
    "for axis in ['top','bottom','left','right']:\n",
    "    ax4.spines[axis].set_visible(True)\n",
    "    ax4.spines[axis].set_color('black')\n",
    "    ax4.spines[axis].set_visible(True)\n",
    "    ax4.spines[axis].set_color('black') \n",
    "plt.show()"
   ]
  },
  {
   "cell_type": "code",
   "execution_count": null,
   "metadata": {
    "ExecuteTime": {
     "end_time": "2018-09-21T15:17:58.092521Z",
     "start_time": "2018-09-21T15:04:46.721Z"
    }
   },
   "outputs": [],
   "source": [
    "TOT1 = np.zeros([256,256] )\n",
    "TOTcts1 = np.zeros([256,256])\n",
    "for i in range(1738):\n",
    "#for i in range(999999999):\n",
    "    x_i = np.abs(xdata[i].astype(int)-255)\n",
    "    y_i = ydata[i].astype(int) \n",
    "    TOT1[x_i,y_i] += tdata[i]\n",
    "    TOTcts1[x_i,y_i]+= 1"
   ]
  },
  {
   "cell_type": "code",
   "execution_count": null,
   "metadata": {
    "ExecuteTime": {
     "end_time": "2018-09-21T15:17:58.096880Z",
     "start_time": "2018-09-21T15:04:47.058Z"
    },
    "scrolled": false
   },
   "outputs": [],
   "source": [
    "import matplotlib.patches as ptc\n",
    "plot = TOT/TOTcts\n",
    "#plot = np.log(TOTcts + 1)\n",
    "fig = plt.figure(figsize = (10,8))\n",
    "ax = sns.heatmap(plot,cmap = 'Spectral_r', xticklabels = 20, yticklabels = 20)#, yticklabels=False,xticklabels=False)\n",
    "'''\n",
    "ax.axhline(y=56,xmin = 0.139, xmax = 0.26, color='k',linewidth=1)\n",
    "ax.axhline(y=66,xmin = 0.139, xmax = 0.26, color='k',linewidth=1)\n",
    "ax.axhline(y=76,xmin = 0.139, xmax = 0.26, color='k',linewidth=1)\n",
    "ax.axhline(y=86,xmin = 0.139, xmax = 0.26, color='k',linewidth=1)\n",
    "ax.axvline(x=36,ymin = 0.665, ymax = 0.78, color='k',linewidth=1)\n",
    "ax.axvline(x=46,ymin = 0.665, ymax = 0.78, color='k',linewidth=1)\n",
    "ax.axvline(x=56,ymin = 0.665, ymax = 0.78, color='k',linewidth=1)\n",
    "ax.axvline(x=66,ymin = 0.665, ymax = 0.78, color='k',linewidth=1)\n",
    "ax.axhline(y=100,xmin = 0.655, xmax = 0.81, color='k',linewidth=1)\n",
    "ax.axhline(y=113,xmin = 0.655, xmax = 0.81, color='k',linewidth=1)\n",
    "ax.axhline(y=126.5,xmin = 0.655, xmax = 0.81, color='k',linewidth=1)\n",
    "ax.axhline(y=140,xmin = 0.655, xmax = 0.81, color='k',linewidth=1)\n",
    "ax.axvline(x=168,ymin = 0.45, ymax = 0.61, color='k',linewidth=1)\n",
    "ax.axvline(x=181.3,ymin = 0.45, ymax = 0.61, color='k',linewidth=1)\n",
    "ax.axvline(x=195,ymin = 0.45, ymax = 0.61, color='k',linewidth=1)\n",
    "ax.axvline(x=208,ymin = 0.45, ymax = 0.61, color='k',linewidth=1)\n",
    "'''\n",
    "plt.xlabel('X [px]')\n",
    "plt.ylabel('Y [px]')\n",
    "plt.savefig('TOA.eps', bbox_inches='tight')\n"
   ]
  },
  {
   "cell_type": "code",
   "execution_count": null,
   "metadata": {
    "ExecuteTime": {
     "end_time": "2018-09-21T15:17:58.101748Z",
     "start_time": "2018-09-21T15:04:47.431Z"
    },
    "scrolled": false
   },
   "outputs": [],
   "source": [
    "fig = plt.figure(figsize = (10,8))\n",
    "ax1 = fig.add_axes([0.06, 0.01, 0.15, 0.15],\n",
    "                   xticklabels=[], yticklabels = [])\n",
    "cbar_ax = fig.add_axes([.3, .1, .03, .6])\n",
    "cbar_ax2 = fig.add_axes([.7, .1, .03, .6])\n",
    "sns.heatmap(TOTblockplot,ax=ax1, cmap = 'Spectral_r',vmin = 100, vmax = 1900,linewidths=.01,linecolor='black', yticklabels=False,xticklabels=False, cbar = False)\n",
    "for axis in ['top','bottom','left','right']:\n",
    "    ax1.spines[axis].set_visible(True)\n",
    "    ax1.spines[axis].set_color('black')\n",
    "    ax1.spines[axis].set_visible(True)\n",
    "    ax1.spines[axis].set_color('black') \n",
    "ax2 = fig.add_axes([0.06, 0.18, 0.15, 0.15],\n",
    "                   xticklabels=[], yticklabels = [])\n",
    "sns.heatmap(TOTblockplot1,ax=ax2,cmap = 'Spectral_r',vmin = 100, vmax = 1900,linewidths=.01,linecolor='black', yticklabels=False,xticklabels=False, cbar = False)\n",
    "for axis in ['top','bottom','left','right']:\n",
    "    ax2.spines[axis].set_visible(True)\n",
    "    ax2.spines[axis].set_color('black')\n",
    "    ax2.spines[axis].set_visible(True)\n",
    "    ax2.spines[axis].set_color('black')\n",
    "ax3 = fig.add_axes([0.06, 0.35, 0.15, 0.15],\n",
    "                   xticklabels=[], yticklabels = [])\n",
    "sns.heatmap(TOTblockplot2,ax=ax3,  cmap = 'Spectral_r',vmin = 100, vmax = 1900,linewidths=.01,linecolor='black',yticklabels=False,xticklabels=False, cbar = False)\n",
    "for axis in ['top','bottom','left','right']:\n",
    "    ax3.spines[axis].set_visible(True)\n",
    "    ax3.spines[axis].set_color('black')\n",
    "    ax3.spines[axis].set_visible(True)\n",
    "    ax3.spines[axis].set_color('black') \n",
    "ax4 = fig.add_axes([0.06, 0.52, 0.15, 0.15],\n",
    "                   xticklabels=[], yticklabels = [])\n",
    "sns.heatmap(TOTblockplot3,ax=ax4, cmap = 'Spectral_r',vmin = 100, vmax = 1900,linewidths=.01,linecolor='black', yticklabels=False,xticklabels=False, cbar = False)\n",
    "for axis in ['top','bottom','left','right']:\n",
    "    ax4.spines[axis].set_visible(True)\n",
    "    ax4.spines[axis].set_color('black')\n",
    "    ax4.spines[axis].set_visible(True)\n",
    "    ax4.spines[axis].set_color('black') \n",
    "ax5 = fig.add_axes([0.06, 0.69, 0.15, 0.15],\n",
    "                   xticklabels=[], yticklabels = [])\n",
    "sns.heatmap(TOTblockplot4,ax=ax5, cmap = 'Spectral_r',vmin =100, vmax = 1900,linewidths=.01,linecolor='black', yticklabels=False,xticklabels=False, cbar_ax = cbar_ax)\n",
    "ax5.set_title(\"Time over Threshold (TOT)(ns)\" )\n",
    "for axis in ['top','bottom','left','right']:\n",
    "    ax5.spines[axis].set_visible(True)\n",
    "    ax5.spines[axis].set_color('black')\n",
    "    ax5.spines[axis].set_visible(True)\n",
    "    ax5.spines[axis].set_color('black') \n",
    "ax6 = fig.add_axes([0.46, 0.01, 0.15, 0.15],\n",
    "                   xticklabels=[], yticklabels = [])\n",
    "sns.heatmap(TOAblockplot,ax=ax6,vmin = 5, vmax = 160, cmap = 'Spectral_r',linewidths=.01,linecolor='black', yticklabels=False,xticklabels=False, cbar = False)\n",
    "for axis in ['top','bottom','left','right']:\n",
    "    ax6.spines[axis].set_visible(True)\n",
    "    ax6.spines[axis].set_color('black')\n",
    "    ax6.spines[axis].set_visible(True)\n",
    "    ax6.spines[axis].set_color('black') \n",
    "ax7 = fig.add_axes([0.46, 0.18, 0.15, 0.15],\n",
    "                   xticklabels=[], yticklabels = [])\n",
    "sns.heatmap(TOAblockplot1,ax=ax7,vmin = 5, vmax = 160,cmap = 'Spectral_r',linewidths=.01,linecolor='black', yticklabels=False,xticklabels=False, cbar = False)\n",
    "for axis in ['top','bottom','left','right']:\n",
    "    ax7.spines[axis].set_visible(True)\n",
    "    ax7.spines[axis].set_color('black')\n",
    "    ax7.spines[axis].set_visible(True)\n",
    "    ax7.spines[axis].set_color('black')\n",
    "ax8 = fig.add_axes([0.46, 0.35, 0.15, 0.15],\n",
    "                   xticklabels=[], yticklabels = [])\n",
    "sns.heatmap(TOAblockplot2,ax=ax8,vmin = 5, vmax = 160,  cmap = 'Spectral_r',linewidths=.01,linecolor='black',yticklabels=False,xticklabels=False, cbar = False)\n",
    "for axis in ['top','bottom','left','right']:\n",
    "    ax8.spines[axis].set_visible(True)\n",
    "    ax8.spines[axis].set_color('black')\n",
    "    ax8.spines[axis].set_visible(True)\n",
    "    ax8.spines[axis].set_color('black') \n",
    "ax9 = fig.add_axes([0.46, 0.52, 0.15, 0.15],\n",
    "                   xticklabels=[], yticklabels = [])\n",
    "sns.heatmap(TOAblockplot3,ax=ax9,vmin = 5, vmax = 160, cmap = 'Spectral_r',linewidths=.01,linecolor='black', yticklabels=False,xticklabels=False, cbar = False)\n",
    "\n",
    "for axis in ['top','bottom','left','right']:\n",
    "    ax9.spines[axis].set_visible(True)\n",
    "    ax9.spines[axis].set_color('black')\n",
    "    ax9.spines[axis].set_visible(True)\n",
    "    ax9.spines[axis].set_color('black') \n",
    "ax10 = fig.add_axes([0.46, 0.69, 0.15, 0.15],\n",
    "                   xticklabels=[], yticklabels = [])\n",
    "sns.heatmap(TOAblockplot4,ax=ax10,vmin = 5, vmax = 160, cmap = 'Spectral_r',linewidths=.01,linecolor='black', yticklabels=False,xticklabels=False, cbar_ax = cbar_ax2)\n",
    "ax10.set_title(\"Time of Arrival from first hit (dTOA) (ns)\" )\n",
    "for axis in ['top','bottom','left','right']:\n",
    "    ax10.spines[axis].set_visible(True)\n",
    "    ax10.spines[axis].set_color('black')\n",
    "    ax10.spines[axis].set_visible(True)\n",
    "    ax10.spines[axis].set_color('black') \n",
    "plt.savefig('hitcomparision.eps', bbox_inches='tight')\n"
   ]
  },
  {
   "cell_type": "code",
   "execution_count": null,
   "metadata": {
    "ExecuteTime": {
     "end_time": "2018-09-21T15:17:58.106062Z",
     "start_time": "2018-09-21T15:04:47.773Z"
    }
   },
   "outputs": [],
   "source": [
    "ax1 = fig.add_axes([0.06, 0.01, 0.15, 0.15],\n",
    "                   xticklabels=[], yticklabels = [])\n",
    "sns.heatmap(blockplot,ax=ax1, cmap = 'plasma', yticklabels=False,xticklabels=False, cbar = False)\n",
    "for axis in ['top','bottom','left','right']:\n",
    "    ax1.spines[axis].set_visible(True)\n",
    "    ax1.spines[axis].set_color('black')\n",
    "    ax1.spines[axis].set_visible(True)\n",
    "    ax1.spines[axis].set_color('black') \n",
    "ax2 = fig.add_axes([0.28, 0.01, 0.15, 0.15],\n",
    "                   xticklabels=[], yticklabels = [])\n",
    "sns.heatmap(blockplot1,ax=ax2,cmap = 'plasma', yticklabels=False,xticklabels=False, cbar = False)\n",
    "for axis in ['top','bottom','left','right']:\n",
    "    ax2.spines[axis].set_visible(True)\n",
    "    ax2.spines[axis].set_color('black')\n",
    "    ax2.spines[axis].set_visible(True)\n",
    "    ax2.spines[axis].set_color('black')\n",
    "ax3 = fig.add_axes([0.5, 0.01, 0.15, 0.15],\n",
    "                   xticklabels=[], yticklabels = [])\n",
    "sns.heatmap(blockplot2,ax=ax3,  cmap = 'plasma',yticklabels=False,xticklabels=False, cbar = False)\n",
    "for axis in ['top','bottom','left','right']:\n",
    "    ax3.spines[axis].set_visible(True)\n",
    "    ax3.spines[axis].set_color('black')\n",
    "    ax3.spines[axis].set_visible(True)\n",
    "    ax3.spines[axis].set_color('black') \n",
    "ax4 = fig.add_axes([0.72, 0.01, 0.15, 0.15],\n",
    "                   xticklabels=[], yticklabels = [])\n",
    "sns.heatmap(blockplot3,ax=ax4, cmap = 'plasma', yticklabels=False,xticklabels=False, cbar = False)\n",
    "for axis in ['top','bottom','left','right']:\n",
    "    ax4.spines[axis].set_visible(True)\n",
    "    ax4.spines[axis].set_color('black')\n",
    "    ax4.spines[axis].set_visible(True)\n",
    "    ax4.spines[axis].set_color('black') "
   ]
  },
  {
   "cell_type": "code",
   "execution_count": null,
   "metadata": {
    "ExecuteTime": {
     "end_time": "2018-09-21T15:17:58.110112Z",
     "start_time": "2018-09-21T15:04:48.162Z"
    }
   },
   "outputs": [],
   "source": [
    "def slicer(xdata,ydata,adata,tdata,del_t = 5000, frames = 25 ):\n",
    "    #Takes in all the data, right now doesn't need ndata? Not sure how to incorporate\n",
    "    # del_t is the slicesize in nanoseconds. 5000 is 5 μs & 1000000 is 1 ms\n",
    "    gif_array = []\n",
    "    int_array = []\n",
    "    for i in range(frames):\n",
    "        index = np.where((tdata >= 0 +(i*del_t)) & (tdata <= del_t+ (i*del_t)))\n",
    "        xplot = xdata[index]\n",
    "        yplot= ydata[index]\n",
    "        tplot = tdata[index]\n",
    "        aplot = adata[index]\n",
    "        gif_fill = (xplot,yplot, tplot, aplot )\n",
    "        gif_array.append(gif_fill)\n",
    "        \n",
    "    # creates the array of slices \n",
    "    for i in range(len(gif_array)):\n",
    "        xfill,yfill,tfill, afill,  = gif_array[i]\n",
    "        if i == 0:\n",
    "            int_fill = (xfill,yfill, tfill, afill )\n",
    "        if i > 0:\n",
    "            xold, yold, told, aold = int_array[i-1]\n",
    "            xadd = np.concatenate((xold,xfill))\n",
    "            yadd = np.concatenate((yold,yfill))\n",
    "            tadd = np.concatenate((told,tfill))\n",
    "            aadd = np.concatenate((aold,afill))\n",
    "            int_fill= (xadd,yadd,tadd,aadd)\n",
    "        int_array.append(int_fill)\n",
    "    # sums all the slices iteratively\n",
    "    return(gif_array, int_array)"
   ]
  },
  {
   "cell_type": "code",
   "execution_count": null,
   "metadata": {
    "ExecuteTime": {
     "end_time": "2018-09-21T15:17:58.114089Z",
     "start_time": "2018-09-21T15:04:48.535Z"
    }
   },
   "outputs": [],
   "source": [
    "def gif_plot(start, gif_array, int_array, del_t):\n",
    "    for i in range(start,len(gif_array)):\n",
    "        xplot1,yplot1,tplot1, aplot1,  = int_array[i]\n",
    "        xplot2,yplot2,tplot2, aplot2,  = gif_array[i]    \n",
    "        # creates an array the size of pixelboard to feed in data for seaborn heatmap\n",
    "        TOT1 = np.zeros([256,256] )\n",
    "        TOT2 = np.zeros([256,256] )\n",
    "        TOT1.fill(np.nan)\n",
    "        TOT2.fill( np.nan) \n",
    "        x1 = xplot1\n",
    "        y1 = yplot1 \n",
    "        z1 = aplot1\n",
    "        x2 = xplot2\n",
    "        y2 = yplot2\n",
    "        z2 = aplot2\n",
    "        min = np.str(i*(del_t/1000))\n",
    "        max = np.str((del_t/1000)+ i*(del_t/1000))\n",
    "        print(len(z2))\n",
    "        for j in range(len(z2)):\n",
    "            TOT2[np.int(x2[j]),np.int(y2[j])]=z2[j]\n",
    "        for j in range(len(z1)):\n",
    "            TOT1[np.int(x1[j]),np.int(y1[j])]=z1[j]\n",
    "        # Plotting Functionality    \n",
    "        fig, (ax1, ax2 ) = plt.subplots(ncols =2, figsize=(10, 6), sharex=True, sharey=True)\n",
    "        plt.suptitle('Hits from '+min+' to '+max+' μs')\n",
    "        cbar_ax = fig.add_axes([1,.2,.03,.6])\n",
    "        sns.heatmap(TOT2,cmap='magma', ax = ax1,vmin = 200, vmax = 3000 ,square = True, cbar = False)\n",
    "        sns.heatmap(TOT1,cmap='magma', ax = ax2, vmin = 200, vmax = 1000, square= True, cbar_ax = cbar_ax)\n",
    "        fig.tight_layout() \n",
    "        i = np.str(i)\n",
    "        plt.savefig('/home/andrew/Documents/BNL 2018/Coding/gifs/qe/fill_frame_'+i+'.png',  bbox_inches='tight')   \n",
    "        # change to where you want to save 100  pngs\n",
    "     "
   ]
  },
  {
   "cell_type": "code",
   "execution_count": null,
   "metadata": {
    "ExecuteTime": {
     "end_time": "2018-09-21T15:17:58.117811Z",
     "start_time": "2018-09-21T15:04:48.959Z"
    }
   },
   "outputs": [],
   "source": [
    "def gif_creation(name, directory):\n",
    "    # input name is a string\n",
    "    # gif creation\n",
    "    gif_name = name\n",
    "    fps = .2      # frames per second\n",
    "    os.chdir(directory)     # change this to directory you want \n",
    "    file_list = glob.glob('*.png') # Get all the pngs in the current directory   \n",
    "    file_list = sorted( file_list, key=lambda f: int(''.join(filter(str.isdigit, f)))) \n",
    "    print(file_list)\n",
    "    clip = mpy.ImageSequenceClip(file_list, fps=fps)\n",
    "    clip.write_gif('{}.gif'.format(gif_name), fps=fps)   \n"
   ]
  },
  {
   "cell_type": "code",
   "execution_count": null,
   "metadata": {
    "ExecuteTime": {
     "end_time": "2018-09-21T15:17:58.121326Z",
     "start_time": "2018-09-21T15:04:49.434Z"
    }
   },
   "outputs": [],
   "source": [
    "del_t = 10000\n",
    "start = 0\n",
    "gif_array, int_array = slicer(xdata,ydata,adata,tdata,del_t =del_t,  frames = 20)\n"
   ]
  },
  {
   "cell_type": "code",
   "execution_count": null,
   "metadata": {
    "ExecuteTime": {
     "end_time": "2018-09-21T15:17:58.125292Z",
     "start_time": "2018-09-21T15:04:49.856Z"
    },
    "scrolled": false
   },
   "outputs": [],
   "source": [
    "gif_plot(start, gif_array,int_array, del_t)"
   ]
  }
 ],
 "metadata": {
  "kernelspec": {
   "display_name": "Python 3",
   "language": "python",
   "name": "python3"
  },
  "language_info": {
   "codemirror_mode": {
    "name": "ipython",
    "version": 3
   },
   "file_extension": ".py",
   "mimetype": "text/x-python",
   "name": "python",
   "nbconvert_exporter": "python",
   "pygments_lexer": "ipython3",
   "version": "3.6.5"
  },
  "varInspector": {
   "cols": {
    "lenName": 16,
    "lenType": 16,
    "lenVar": 40
   },
   "kernels_config": {
    "python": {
     "delete_cmd_postfix": "",
     "delete_cmd_prefix": "del ",
     "library": "var_list.py",
     "varRefreshCmd": "print(var_dic_list())"
    },
    "r": {
     "delete_cmd_postfix": ") ",
     "delete_cmd_prefix": "rm(",
     "library": "var_list.r",
     "varRefreshCmd": "cat(var_dic_list()) "
    }
   },
   "oldHeight": 463,
   "position": {
    "height": "40px",
    "left": "795px",
    "right": "83px",
    "top": "4px",
    "width": "433px"
   },
   "types_to_exclude": [
    "module",
    "function",
    "builtin_function_or_method",
    "instance",
    "_Feature"
   ],
   "varInspector_section_display": "none",
   "window_display": true
  }
 },
 "nbformat": 4,
 "nbformat_minor": 2
}
